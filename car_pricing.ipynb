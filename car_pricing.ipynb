{
  "nbformat": 4,
  "nbformat_minor": 0,
  "metadata": {
    "colab": {
      "provenance": []
    },
    "kernelspec": {
      "name": "python3",
      "display_name": "Python 3"
    },
    "language_info": {
      "name": "python"
    }
  },
  "cells": [
    {
      "cell_type": "markdown",
      "source": [
        "get data from cloneing a github repo"
      ],
      "metadata": {
        "id": "Lvj9q76dNqkQ"
      }
    },
    {
      "cell_type": "code",
      "execution_count": null,
      "metadata": {
        "colab": {
          "base_uri": "https://localhost:8080/"
        },
        "id": "dAGAHY5cJ-Dg",
        "outputId": "e77b0b7b-47cf-4f0f-eda9-72a60b98cebe"
      },
      "outputs": [
        {
          "output_type": "stream",
          "name": "stdout",
          "text": [
            "Cloning into 'mlbookcamp-code'...\n",
            "remote: Enumerating objects: 4258, done.\u001b[K\n",
            "remote: Counting objects: 100% (4258/4258), done.\u001b[K\n",
            "remote: Compressing objects: 100% (1592/1592), done.\u001b[K\n",
            "remote: Total 4258 (delta 2548), reused 4235 (delta 2534), pack-reused 0\u001b[K\n",
            "Receiving objects: 100% (4258/4258), 9.02 MiB | 18.17 MiB/s, done.\n",
            "Resolving deltas: 100% (2548/2548), done.\n"
          ]
        }
      ],
      "source": [
        "!git clone https://github.com/alexeygrigorev/mlbookcamp-code\n"
      ]
    },
    {
      "cell_type": "markdown",
      "source": [
        "import important libraries"
      ],
      "metadata": {
        "id": "6sRKLh0aNwi6"
      }
    },
    {
      "cell_type": "code",
      "source": [
        "import pandas as pd\n",
        "import numpy as np\n",
        "import seaborn as sns\n",
        "sns.set()\n",
        "from matplotlib import pyplot as plt\n",
        "%matplotlib inline"
      ],
      "metadata": {
        "id": "rhhFes0oLIPi"
      },
      "execution_count": null,
      "outputs": []
    },
    {
      "cell_type": "markdown",
      "source": [
        "#trying to understand the data\n",
        "first we assign the data for a varible by reading it from csv file\n"
      ],
      "metadata": {
        "id": "Ub4eJG6YN5PA"
      }
    },
    {
      "cell_type": "code",
      "source": [
        "df = pd.read_csv('/content/mlbookcamp-code/chapter-02-car-price/data.csv')\n",
        "len(df)"
      ],
      "metadata": {
        "colab": {
          "base_uri": "https://localhost:8080/"
        },
        "id": "_O9Za294LfHL",
        "outputId": "86ca65fb-07a0-4ef2-f65e-ef3a3e125ab5"
      },
      "execution_count": null,
      "outputs": [
        {
          "output_type": "execute_result",
          "data": {
            "text/plain": [
              "11914"
            ]
          },
          "metadata": {},
          "execution_count": 3
        }
      ]
    },
    {
      "cell_type": "code",
      "source": [
        "df.head()"
      ],
      "metadata": {
        "colab": {
          "base_uri": "https://localhost:8080/",
          "height": 397
        },
        "id": "xTmsoFGlLfJd",
        "outputId": "29ab2dac-2b2c-4549-bbd0-72cdeac69785"
      },
      "execution_count": null,
      "outputs": [
        {
          "output_type": "execute_result",
          "data": {
            "text/plain": [
              "  Make       Model  Year             Engine Fuel Type  Engine HP  \\\n",
              "0  BMW  1 Series M  2011  premium unleaded (required)      335.0   \n",
              "1  BMW    1 Series  2011  premium unleaded (required)      300.0   \n",
              "2  BMW    1 Series  2011  premium unleaded (required)      300.0   \n",
              "3  BMW    1 Series  2011  premium unleaded (required)      230.0   \n",
              "4  BMW    1 Series  2011  premium unleaded (required)      230.0   \n",
              "\n",
              "   Engine Cylinders Transmission Type     Driven_Wheels  Number of Doors  \\\n",
              "0               6.0            MANUAL  rear wheel drive              2.0   \n",
              "1               6.0            MANUAL  rear wheel drive              2.0   \n",
              "2               6.0            MANUAL  rear wheel drive              2.0   \n",
              "3               6.0            MANUAL  rear wheel drive              2.0   \n",
              "4               6.0            MANUAL  rear wheel drive              2.0   \n",
              "\n",
              "                         Market Category Vehicle Size Vehicle Style  \\\n",
              "0  Factory Tuner,Luxury,High-Performance      Compact         Coupe   \n",
              "1                     Luxury,Performance      Compact   Convertible   \n",
              "2                Luxury,High-Performance      Compact         Coupe   \n",
              "3                     Luxury,Performance      Compact         Coupe   \n",
              "4                                 Luxury      Compact   Convertible   \n",
              "\n",
              "   highway MPG  city mpg  Popularity   MSRP  \n",
              "0           26        19        3916  46135  \n",
              "1           28        19        3916  40650  \n",
              "2           28        20        3916  36350  \n",
              "3           28        18        3916  29450  \n",
              "4           28        18        3916  34500  "
            ],
            "text/html": [
              "\n",
              "  <div id=\"df-55082f4a-8b32-461e-b146-18b9ed32beca\" class=\"colab-df-container\">\n",
              "    <div>\n",
              "<style scoped>\n",
              "    .dataframe tbody tr th:only-of-type {\n",
              "        vertical-align: middle;\n",
              "    }\n",
              "\n",
              "    .dataframe tbody tr th {\n",
              "        vertical-align: top;\n",
              "    }\n",
              "\n",
              "    .dataframe thead th {\n",
              "        text-align: right;\n",
              "    }\n",
              "</style>\n",
              "<table border=\"1\" class=\"dataframe\">\n",
              "  <thead>\n",
              "    <tr style=\"text-align: right;\">\n",
              "      <th></th>\n",
              "      <th>Make</th>\n",
              "      <th>Model</th>\n",
              "      <th>Year</th>\n",
              "      <th>Engine Fuel Type</th>\n",
              "      <th>Engine HP</th>\n",
              "      <th>Engine Cylinders</th>\n",
              "      <th>Transmission Type</th>\n",
              "      <th>Driven_Wheels</th>\n",
              "      <th>Number of Doors</th>\n",
              "      <th>Market Category</th>\n",
              "      <th>Vehicle Size</th>\n",
              "      <th>Vehicle Style</th>\n",
              "      <th>highway MPG</th>\n",
              "      <th>city mpg</th>\n",
              "      <th>Popularity</th>\n",
              "      <th>MSRP</th>\n",
              "    </tr>\n",
              "  </thead>\n",
              "  <tbody>\n",
              "    <tr>\n",
              "      <th>0</th>\n",
              "      <td>BMW</td>\n",
              "      <td>1 Series M</td>\n",
              "      <td>2011</td>\n",
              "      <td>premium unleaded (required)</td>\n",
              "      <td>335.0</td>\n",
              "      <td>6.0</td>\n",
              "      <td>MANUAL</td>\n",
              "      <td>rear wheel drive</td>\n",
              "      <td>2.0</td>\n",
              "      <td>Factory Tuner,Luxury,High-Performance</td>\n",
              "      <td>Compact</td>\n",
              "      <td>Coupe</td>\n",
              "      <td>26</td>\n",
              "      <td>19</td>\n",
              "      <td>3916</td>\n",
              "      <td>46135</td>\n",
              "    </tr>\n",
              "    <tr>\n",
              "      <th>1</th>\n",
              "      <td>BMW</td>\n",
              "      <td>1 Series</td>\n",
              "      <td>2011</td>\n",
              "      <td>premium unleaded (required)</td>\n",
              "      <td>300.0</td>\n",
              "      <td>6.0</td>\n",
              "      <td>MANUAL</td>\n",
              "      <td>rear wheel drive</td>\n",
              "      <td>2.0</td>\n",
              "      <td>Luxury,Performance</td>\n",
              "      <td>Compact</td>\n",
              "      <td>Convertible</td>\n",
              "      <td>28</td>\n",
              "      <td>19</td>\n",
              "      <td>3916</td>\n",
              "      <td>40650</td>\n",
              "    </tr>\n",
              "    <tr>\n",
              "      <th>2</th>\n",
              "      <td>BMW</td>\n",
              "      <td>1 Series</td>\n",
              "      <td>2011</td>\n",
              "      <td>premium unleaded (required)</td>\n",
              "      <td>300.0</td>\n",
              "      <td>6.0</td>\n",
              "      <td>MANUAL</td>\n",
              "      <td>rear wheel drive</td>\n",
              "      <td>2.0</td>\n",
              "      <td>Luxury,High-Performance</td>\n",
              "      <td>Compact</td>\n",
              "      <td>Coupe</td>\n",
              "      <td>28</td>\n",
              "      <td>20</td>\n",
              "      <td>3916</td>\n",
              "      <td>36350</td>\n",
              "    </tr>\n",
              "    <tr>\n",
              "      <th>3</th>\n",
              "      <td>BMW</td>\n",
              "      <td>1 Series</td>\n",
              "      <td>2011</td>\n",
              "      <td>premium unleaded (required)</td>\n",
              "      <td>230.0</td>\n",
              "      <td>6.0</td>\n",
              "      <td>MANUAL</td>\n",
              "      <td>rear wheel drive</td>\n",
              "      <td>2.0</td>\n",
              "      <td>Luxury,Performance</td>\n",
              "      <td>Compact</td>\n",
              "      <td>Coupe</td>\n",
              "      <td>28</td>\n",
              "      <td>18</td>\n",
              "      <td>3916</td>\n",
              "      <td>29450</td>\n",
              "    </tr>\n",
              "    <tr>\n",
              "      <th>4</th>\n",
              "      <td>BMW</td>\n",
              "      <td>1 Series</td>\n",
              "      <td>2011</td>\n",
              "      <td>premium unleaded (required)</td>\n",
              "      <td>230.0</td>\n",
              "      <td>6.0</td>\n",
              "      <td>MANUAL</td>\n",
              "      <td>rear wheel drive</td>\n",
              "      <td>2.0</td>\n",
              "      <td>Luxury</td>\n",
              "      <td>Compact</td>\n",
              "      <td>Convertible</td>\n",
              "      <td>28</td>\n",
              "      <td>18</td>\n",
              "      <td>3916</td>\n",
              "      <td>34500</td>\n",
              "    </tr>\n",
              "  </tbody>\n",
              "</table>\n",
              "</div>\n",
              "    <div class=\"colab-df-buttons\">\n",
              "\n",
              "  <div class=\"colab-df-container\">\n",
              "    <button class=\"colab-df-convert\" onclick=\"convertToInteractive('df-55082f4a-8b32-461e-b146-18b9ed32beca')\"\n",
              "            title=\"Convert this dataframe to an interactive table.\"\n",
              "            style=\"display:none;\">\n",
              "\n",
              "  <svg xmlns=\"http://www.w3.org/2000/svg\" height=\"24px\" viewBox=\"0 -960 960 960\">\n",
              "    <path d=\"M120-120v-720h720v720H120Zm60-500h600v-160H180v160Zm220 220h160v-160H400v160Zm0 220h160v-160H400v160ZM180-400h160v-160H180v160Zm440 0h160v-160H620v160ZM180-180h160v-160H180v160Zm440 0h160v-160H620v160Z\"/>\n",
              "  </svg>\n",
              "    </button>\n",
              "\n",
              "  <style>\n",
              "    .colab-df-container {\n",
              "      display:flex;\n",
              "      gap: 12px;\n",
              "    }\n",
              "\n",
              "    .colab-df-convert {\n",
              "      background-color: #E8F0FE;\n",
              "      border: none;\n",
              "      border-radius: 50%;\n",
              "      cursor: pointer;\n",
              "      display: none;\n",
              "      fill: #1967D2;\n",
              "      height: 32px;\n",
              "      padding: 0 0 0 0;\n",
              "      width: 32px;\n",
              "    }\n",
              "\n",
              "    .colab-df-convert:hover {\n",
              "      background-color: #E2EBFA;\n",
              "      box-shadow: 0px 1px 2px rgba(60, 64, 67, 0.3), 0px 1px 3px 1px rgba(60, 64, 67, 0.15);\n",
              "      fill: #174EA6;\n",
              "    }\n",
              "\n",
              "    .colab-df-buttons div {\n",
              "      margin-bottom: 4px;\n",
              "    }\n",
              "\n",
              "    [theme=dark] .colab-df-convert {\n",
              "      background-color: #3B4455;\n",
              "      fill: #D2E3FC;\n",
              "    }\n",
              "\n",
              "    [theme=dark] .colab-df-convert:hover {\n",
              "      background-color: #434B5C;\n",
              "      box-shadow: 0px 1px 3px 1px rgba(0, 0, 0, 0.15);\n",
              "      filter: drop-shadow(0px 1px 2px rgba(0, 0, 0, 0.3));\n",
              "      fill: #FFFFFF;\n",
              "    }\n",
              "  </style>\n",
              "\n",
              "    <script>\n",
              "      const buttonEl =\n",
              "        document.querySelector('#df-55082f4a-8b32-461e-b146-18b9ed32beca button.colab-df-convert');\n",
              "      buttonEl.style.display =\n",
              "        google.colab.kernel.accessAllowed ? 'block' : 'none';\n",
              "\n",
              "      async function convertToInteractive(key) {\n",
              "        const element = document.querySelector('#df-55082f4a-8b32-461e-b146-18b9ed32beca');\n",
              "        const dataTable =\n",
              "          await google.colab.kernel.invokeFunction('convertToInteractive',\n",
              "                                                    [key], {});\n",
              "        if (!dataTable) return;\n",
              "\n",
              "        const docLinkHtml = 'Like what you see? Visit the ' +\n",
              "          '<a target=\"_blank\" href=https://colab.research.google.com/notebooks/data_table.ipynb>data table notebook</a>'\n",
              "          + ' to learn more about interactive tables.';\n",
              "        element.innerHTML = '';\n",
              "        dataTable['output_type'] = 'display_data';\n",
              "        await google.colab.output.renderOutput(dataTable, element);\n",
              "        const docLink = document.createElement('div');\n",
              "        docLink.innerHTML = docLinkHtml;\n",
              "        element.appendChild(docLink);\n",
              "      }\n",
              "    </script>\n",
              "  </div>\n",
              "\n",
              "\n",
              "<div id=\"df-9482ad83-7211-433d-b570-13c940a7a416\">\n",
              "  <button class=\"colab-df-quickchart\" onclick=\"quickchart('df-9482ad83-7211-433d-b570-13c940a7a416')\"\n",
              "            title=\"Suggest charts\"\n",
              "            style=\"display:none;\">\n",
              "\n",
              "<svg xmlns=\"http://www.w3.org/2000/svg\" height=\"24px\"viewBox=\"0 0 24 24\"\n",
              "     width=\"24px\">\n",
              "    <g>\n",
              "        <path d=\"M19 3H5c-1.1 0-2 .9-2 2v14c0 1.1.9 2 2 2h14c1.1 0 2-.9 2-2V5c0-1.1-.9-2-2-2zM9 17H7v-7h2v7zm4 0h-2V7h2v10zm4 0h-2v-4h2v4z\"/>\n",
              "    </g>\n",
              "</svg>\n",
              "  </button>\n",
              "\n",
              "<style>\n",
              "  .colab-df-quickchart {\n",
              "      --bg-color: #E8F0FE;\n",
              "      --fill-color: #1967D2;\n",
              "      --hover-bg-color: #E2EBFA;\n",
              "      --hover-fill-color: #174EA6;\n",
              "      --disabled-fill-color: #AAA;\n",
              "      --disabled-bg-color: #DDD;\n",
              "  }\n",
              "\n",
              "  [theme=dark] .colab-df-quickchart {\n",
              "      --bg-color: #3B4455;\n",
              "      --fill-color: #D2E3FC;\n",
              "      --hover-bg-color: #434B5C;\n",
              "      --hover-fill-color: #FFFFFF;\n",
              "      --disabled-bg-color: #3B4455;\n",
              "      --disabled-fill-color: #666;\n",
              "  }\n",
              "\n",
              "  .colab-df-quickchart {\n",
              "    background-color: var(--bg-color);\n",
              "    border: none;\n",
              "    border-radius: 50%;\n",
              "    cursor: pointer;\n",
              "    display: none;\n",
              "    fill: var(--fill-color);\n",
              "    height: 32px;\n",
              "    padding: 0;\n",
              "    width: 32px;\n",
              "  }\n",
              "\n",
              "  .colab-df-quickchart:hover {\n",
              "    background-color: var(--hover-bg-color);\n",
              "    box-shadow: 0 1px 2px rgba(60, 64, 67, 0.3), 0 1px 3px 1px rgba(60, 64, 67, 0.15);\n",
              "    fill: var(--button-hover-fill-color);\n",
              "  }\n",
              "\n",
              "  .colab-df-quickchart-complete:disabled,\n",
              "  .colab-df-quickchart-complete:disabled:hover {\n",
              "    background-color: var(--disabled-bg-color);\n",
              "    fill: var(--disabled-fill-color);\n",
              "    box-shadow: none;\n",
              "  }\n",
              "\n",
              "  .colab-df-spinner {\n",
              "    border: 2px solid var(--fill-color);\n",
              "    border-color: transparent;\n",
              "    border-bottom-color: var(--fill-color);\n",
              "    animation:\n",
              "      spin 1s steps(1) infinite;\n",
              "  }\n",
              "\n",
              "  @keyframes spin {\n",
              "    0% {\n",
              "      border-color: transparent;\n",
              "      border-bottom-color: var(--fill-color);\n",
              "      border-left-color: var(--fill-color);\n",
              "    }\n",
              "    20% {\n",
              "      border-color: transparent;\n",
              "      border-left-color: var(--fill-color);\n",
              "      border-top-color: var(--fill-color);\n",
              "    }\n",
              "    30% {\n",
              "      border-color: transparent;\n",
              "      border-left-color: var(--fill-color);\n",
              "      border-top-color: var(--fill-color);\n",
              "      border-right-color: var(--fill-color);\n",
              "    }\n",
              "    40% {\n",
              "      border-color: transparent;\n",
              "      border-right-color: var(--fill-color);\n",
              "      border-top-color: var(--fill-color);\n",
              "    }\n",
              "    60% {\n",
              "      border-color: transparent;\n",
              "      border-right-color: var(--fill-color);\n",
              "    }\n",
              "    80% {\n",
              "      border-color: transparent;\n",
              "      border-right-color: var(--fill-color);\n",
              "      border-bottom-color: var(--fill-color);\n",
              "    }\n",
              "    90% {\n",
              "      border-color: transparent;\n",
              "      border-bottom-color: var(--fill-color);\n",
              "    }\n",
              "  }\n",
              "</style>\n",
              "\n",
              "  <script>\n",
              "    async function quickchart(key) {\n",
              "      const quickchartButtonEl =\n",
              "        document.querySelector('#' + key + ' button');\n",
              "      quickchartButtonEl.disabled = true;  // To prevent multiple clicks.\n",
              "      quickchartButtonEl.classList.add('colab-df-spinner');\n",
              "      try {\n",
              "        const charts = await google.colab.kernel.invokeFunction(\n",
              "            'suggestCharts', [key], {});\n",
              "      } catch (error) {\n",
              "        console.error('Error during call to suggestCharts:', error);\n",
              "      }\n",
              "      quickchartButtonEl.classList.remove('colab-df-spinner');\n",
              "      quickchartButtonEl.classList.add('colab-df-quickchart-complete');\n",
              "    }\n",
              "    (() => {\n",
              "      let quickchartButtonEl =\n",
              "        document.querySelector('#df-9482ad83-7211-433d-b570-13c940a7a416 button');\n",
              "      quickchartButtonEl.style.display =\n",
              "        google.colab.kernel.accessAllowed ? 'block' : 'none';\n",
              "    })();\n",
              "  </script>\n",
              "</div>\n",
              "\n",
              "    </div>\n",
              "  </div>\n"
            ],
            "application/vnd.google.colaboratory.intrinsic+json": {
              "type": "dataframe",
              "variable_name": "df",
              "summary": "{\n  \"name\": \"df\",\n  \"rows\": 11914,\n  \"fields\": [\n    {\n      \"column\": \"Make\",\n      \"properties\": {\n        \"dtype\": \"category\",\n        \"num_unique_values\": 48,\n        \"samples\": [\n          \"Chevrolet\",\n          \"Land Rover\",\n          \"Bentley\"\n        ],\n        \"semantic_type\": \"\",\n        \"description\": \"\"\n      }\n    },\n    {\n      \"column\": \"Model\",\n      \"properties\": {\n        \"dtype\": \"category\",\n        \"num_unique_values\": 915,\n        \"samples\": [\n          \"G35\",\n          \"Van\",\n          \"Flex\"\n        ],\n        \"semantic_type\": \"\",\n        \"description\": \"\"\n      }\n    },\n    {\n      \"column\": \"Year\",\n      \"properties\": {\n        \"dtype\": \"number\",\n        \"std\": 7,\n        \"min\": 1990,\n        \"max\": 2017,\n        \"num_unique_values\": 28,\n        \"samples\": [\n          1990,\n          2000,\n          2016\n        ],\n        \"semantic_type\": \"\",\n        \"description\": \"\"\n      }\n    },\n    {\n      \"column\": \"Engine Fuel Type\",\n      \"properties\": {\n        \"dtype\": \"category\",\n        \"num_unique_values\": 10,\n        \"samples\": [\n          \"flex-fuel (premium unleaded required/E85)\",\n          \"regular unleaded\",\n          \"electric\"\n        ],\n        \"semantic_type\": \"\",\n        \"description\": \"\"\n      }\n    },\n    {\n      \"column\": \"Engine HP\",\n      \"properties\": {\n        \"dtype\": \"number\",\n        \"std\": 109.19187025917206,\n        \"min\": 55.0,\n        \"max\": 1001.0,\n        \"num_unique_values\": 356,\n        \"samples\": [\n          145.0,\n          201.0,\n          219.0\n        ],\n        \"semantic_type\": \"\",\n        \"description\": \"\"\n      }\n    },\n    {\n      \"column\": \"Engine Cylinders\",\n      \"properties\": {\n        \"dtype\": \"number\",\n        \"std\": 1.780559348246223,\n        \"min\": 0.0,\n        \"max\": 16.0,\n        \"num_unique_values\": 9,\n        \"samples\": [\n          3.0,\n          4.0,\n          0.0\n        ],\n        \"semantic_type\": \"\",\n        \"description\": \"\"\n      }\n    },\n    {\n      \"column\": \"Transmission Type\",\n      \"properties\": {\n        \"dtype\": \"category\",\n        \"num_unique_values\": 5,\n        \"samples\": [\n          \"AUTOMATIC\",\n          \"UNKNOWN\",\n          \"AUTOMATED_MANUAL\"\n        ],\n        \"semantic_type\": \"\",\n        \"description\": \"\"\n      }\n    },\n    {\n      \"column\": \"Driven_Wheels\",\n      \"properties\": {\n        \"dtype\": \"category\",\n        \"num_unique_values\": 4,\n        \"samples\": [\n          \"front wheel drive\",\n          \"four wheel drive\",\n          \"rear wheel drive\"\n        ],\n        \"semantic_type\": \"\",\n        \"description\": \"\"\n      }\n    },\n    {\n      \"column\": \"Number of Doors\",\n      \"properties\": {\n        \"dtype\": \"number\",\n        \"std\": 0.8813153865835543,\n        \"min\": 2.0,\n        \"max\": 4.0,\n        \"num_unique_values\": 3,\n        \"samples\": [\n          2.0,\n          4.0,\n          3.0\n        ],\n        \"semantic_type\": \"\",\n        \"description\": \"\"\n      }\n    },\n    {\n      \"column\": \"Market Category\",\n      \"properties\": {\n        \"dtype\": \"category\",\n        \"num_unique_values\": 71,\n        \"samples\": [\n          \"Exotic,Luxury,Performance\",\n          \"Factory Tuner,Luxury,High-Performance\",\n          \"Crossover,Flex Fuel,Luxury\"\n        ],\n        \"semantic_type\": \"\",\n        \"description\": \"\"\n      }\n    },\n    {\n      \"column\": \"Vehicle Size\",\n      \"properties\": {\n        \"dtype\": \"category\",\n        \"num_unique_values\": 3,\n        \"samples\": [\n          \"Compact\",\n          \"Midsize\",\n          \"Large\"\n        ],\n        \"semantic_type\": \"\",\n        \"description\": \"\"\n      }\n    },\n    {\n      \"column\": \"Vehicle Style\",\n      \"properties\": {\n        \"dtype\": \"category\",\n        \"num_unique_values\": 16,\n        \"samples\": [\n          \"Coupe\",\n          \"Convertible\",\n          \"2dr Hatchback\"\n        ],\n        \"semantic_type\": \"\",\n        \"description\": \"\"\n      }\n    },\n    {\n      \"column\": \"highway MPG\",\n      \"properties\": {\n        \"dtype\": \"number\",\n        \"std\": 8,\n        \"min\": 12,\n        \"max\": 354,\n        \"num_unique_values\": 59,\n        \"samples\": [\n          26,\n          20,\n          354\n        ],\n        \"semantic_type\": \"\",\n        \"description\": \"\"\n      }\n    },\n    {\n      \"column\": \"city mpg\",\n      \"properties\": {\n        \"dtype\": \"number\",\n        \"std\": 8,\n        \"min\": 7,\n        \"max\": 137,\n        \"num_unique_values\": 69,\n        \"samples\": [\n          9,\n          19,\n          41\n        ],\n        \"semantic_type\": \"\",\n        \"description\": \"\"\n      }\n    },\n    {\n      \"column\": \"Popularity\",\n      \"properties\": {\n        \"dtype\": \"number\",\n        \"std\": 1441,\n        \"min\": 2,\n        \"max\": 5657,\n        \"num_unique_values\": 48,\n        \"samples\": [\n          1385,\n          258,\n          520\n        ],\n        \"semantic_type\": \"\",\n        \"description\": \"\"\n      }\n    },\n    {\n      \"column\": \"MSRP\",\n      \"properties\": {\n        \"dtype\": \"number\",\n        \"std\": 60109,\n        \"min\": 2000,\n        \"max\": 2065902,\n        \"num_unique_values\": 6049,\n        \"samples\": [\n          42610,\n          32030,\n          89995\n        ],\n        \"semantic_type\": \"\",\n        \"description\": \"\"\n      }\n    }\n  ]\n}"
            }
          },
          "metadata": {},
          "execution_count": 4
        }
      ]
    },
    {
      "cell_type": "code",
      "source": [
        "df.columns"
      ],
      "metadata": {
        "colab": {
          "base_uri": "https://localhost:8080/"
        },
        "id": "nn-TGAT6LfLy",
        "outputId": "40a8cc20-6b6e-4485-b427-343b28f5d3ae"
      },
      "execution_count": null,
      "outputs": [
        {
          "output_type": "execute_result",
          "data": {
            "text/plain": [
              "Index(['Make', 'Model', 'Year', 'Engine Fuel Type', 'Engine HP',\n",
              "       'Engine Cylinders', 'Transmission Type', 'Driven_Wheels',\n",
              "       'Number of Doors', 'Market Category', 'Vehicle Size', 'Vehicle Style',\n",
              "       'highway MPG', 'city mpg', 'Popularity', 'MSRP'],\n",
              "      dtype='object')"
            ]
          },
          "metadata": {},
          "execution_count": 5
        }
      ]
    },
    {
      "cell_type": "code",
      "source": [
        "df.info()"
      ],
      "metadata": {
        "colab": {
          "base_uri": "https://localhost:8080/"
        },
        "id": "1rMywbjMLfVb",
        "outputId": "31a3d9b3-2c15-4a8f-c10c-448392a8d7c1"
      },
      "execution_count": null,
      "outputs": [
        {
          "output_type": "stream",
          "name": "stdout",
          "text": [
            "<class 'pandas.core.frame.DataFrame'>\n",
            "RangeIndex: 11914 entries, 0 to 11913\n",
            "Data columns (total 16 columns):\n",
            " #   Column             Non-Null Count  Dtype  \n",
            "---  ------             --------------  -----  \n",
            " 0   Make               11914 non-null  object \n",
            " 1   Model              11914 non-null  object \n",
            " 2   Year               11914 non-null  int64  \n",
            " 3   Engine Fuel Type   11911 non-null  object \n",
            " 4   Engine HP          11845 non-null  float64\n",
            " 5   Engine Cylinders   11884 non-null  float64\n",
            " 6   Transmission Type  11914 non-null  object \n",
            " 7   Driven_Wheels      11914 non-null  object \n",
            " 8   Number of Doors    11908 non-null  float64\n",
            " 9   Market Category    8172 non-null   object \n",
            " 10  Vehicle Size       11914 non-null  object \n",
            " 11  Vehicle Style      11914 non-null  object \n",
            " 12  highway MPG        11914 non-null  int64  \n",
            " 13  city mpg           11914 non-null  int64  \n",
            " 14  Popularity         11914 non-null  int64  \n",
            " 15  MSRP               11914 non-null  int64  \n",
            "dtypes: float64(3), int64(5), object(8)\n",
            "memory usage: 1.5+ MB\n"
          ]
        }
      ]
    },
    {
      "cell_type": "code",
      "source": [
        "for col in df.columns:\n",
        "  print(col,':' , df[col].nunique())\n",
        "  print(df[col].value_counts().nlargest(5))\n",
        "  print('\\n' + '*' * 20 +'\\n')"
      ],
      "metadata": {
        "colab": {
          "base_uri": "https://localhost:8080/"
        },
        "id": "6AfHu1H7LfX8",
        "outputId": "6733c08b-4dd4-4336-90f5-6c4ae420c742"
      },
      "execution_count": null,
      "outputs": [
        {
          "output_type": "stream",
          "name": "stdout",
          "text": [
            "Make : 48\n",
            "Make\n",
            "Chevrolet     1123\n",
            "Ford           881\n",
            "Volkswagen     809\n",
            "Toyota         746\n",
            "Dodge          626\n",
            "Name: count, dtype: int64\n",
            "\n",
            "********************\n",
            "\n",
            "Model : 915\n",
            "Model\n",
            "Silverado 1500        156\n",
            "Tundra                140\n",
            "F-150                 126\n",
            "Sierra 1500            90\n",
            "Beetle Convertible     89\n",
            "Name: count, dtype: int64\n",
            "\n",
            "********************\n",
            "\n",
            "Year : 28\n",
            "Year\n",
            "2015    2170\n",
            "2016    2157\n",
            "2017    1668\n",
            "2014     589\n",
            "2012     387\n",
            "Name: count, dtype: int64\n",
            "\n",
            "********************\n",
            "\n",
            "Engine Fuel Type : 10\n",
            "Engine Fuel Type\n",
            "regular unleaded                  7172\n",
            "premium unleaded (required)       2009\n",
            "premium unleaded (recommended)    1523\n",
            "flex-fuel (unleaded/E85)           899\n",
            "diesel                             154\n",
            "Name: count, dtype: int64\n",
            "\n",
            "********************\n",
            "\n",
            "Engine HP : 356\n",
            "Engine HP\n",
            "200.0    456\n",
            "170.0    351\n",
            "210.0    320\n",
            "240.0    268\n",
            "285.0    246\n",
            "Name: count, dtype: int64\n",
            "\n",
            "********************\n",
            "\n",
            "Engine Cylinders : 9\n",
            "Engine Cylinders\n",
            "4.0     4752\n",
            "6.0     4489\n",
            "8.0     2031\n",
            "12.0     230\n",
            "5.0      225\n",
            "Name: count, dtype: int64\n",
            "\n",
            "********************\n",
            "\n",
            "Transmission Type : 5\n",
            "Transmission Type\n",
            "AUTOMATIC           8266\n",
            "MANUAL              2935\n",
            "AUTOMATED_MANUAL     626\n",
            "DIRECT_DRIVE          68\n",
            "UNKNOWN               19\n",
            "Name: count, dtype: int64\n",
            "\n",
            "********************\n",
            "\n",
            "Driven_Wheels : 4\n",
            "Driven_Wheels\n",
            "front wheel drive    4787\n",
            "rear wheel drive     3371\n",
            "all wheel drive      2353\n",
            "four wheel drive     1403\n",
            "Name: count, dtype: int64\n",
            "\n",
            "********************\n",
            "\n",
            "Number of Doors : 3\n",
            "Number of Doors\n",
            "4.0    8353\n",
            "2.0    3160\n",
            "3.0     395\n",
            "Name: count, dtype: int64\n",
            "\n",
            "********************\n",
            "\n",
            "Market Category : 71\n",
            "Market Category\n",
            "Crossover             1110\n",
            "Flex Fuel              872\n",
            "Luxury                 855\n",
            "Luxury,Performance     673\n",
            "Hatchback              641\n",
            "Name: count, dtype: int64\n",
            "\n",
            "********************\n",
            "\n",
            "Vehicle Size : 3\n",
            "Vehicle Size\n",
            "Compact    4764\n",
            "Midsize    4373\n",
            "Large      2777\n",
            "Name: count, dtype: int64\n",
            "\n",
            "********************\n",
            "\n",
            "Vehicle Style : 16\n",
            "Vehicle Style\n",
            "Sedan            3048\n",
            "4dr SUV          2488\n",
            "Coupe            1211\n",
            "Convertible       793\n",
            "4dr Hatchback     702\n",
            "Name: count, dtype: int64\n",
            "\n",
            "********************\n",
            "\n",
            "highway MPG : 59\n",
            "highway MPG\n",
            "24    876\n",
            "23    801\n",
            "26    778\n",
            "22    753\n",
            "25    731\n",
            "Name: count, dtype: int64\n",
            "\n",
            "********************\n",
            "\n",
            "city mpg : 69\n",
            "city mpg\n",
            "17    1230\n",
            "16    1106\n",
            "15    1038\n",
            "18     997\n",
            "19     841\n",
            "Name: count, dtype: int64\n",
            "\n",
            "********************\n",
            "\n",
            "Popularity : 48\n",
            "Popularity\n",
            "1385    1123\n",
            "5657     881\n",
            "873      809\n",
            "2031     746\n",
            "1851     626\n",
            "Name: count, dtype: int64\n",
            "\n",
            "********************\n",
            "\n",
            "MSRP : 6049\n",
            "MSRP\n",
            "2000     1036\n",
            "29995      19\n",
            "25995      19\n",
            "20995      16\n",
            "27995      16\n",
            "Name: count, dtype: int64\n",
            "\n",
            "********************\n",
            "\n"
          ]
        }
      ]
    },
    {
      "cell_type": "markdown",
      "source": [
        "#some cleaning\n"
      ],
      "metadata": {
        "id": "J6QMDpJFGK2y"
      }
    },
    {
      "cell_type": "code",
      "source": [
        "df.info()"
      ],
      "metadata": {
        "colab": {
          "base_uri": "https://localhost:8080/"
        },
        "id": "9rO2gnqQGNyd",
        "outputId": "0b89ca40-5a4e-4b6e-cdb8-4c2da6fc3a06"
      },
      "execution_count": null,
      "outputs": [
        {
          "output_type": "stream",
          "name": "stdout",
          "text": [
            "<class 'pandas.core.frame.DataFrame'>\n",
            "RangeIndex: 11914 entries, 0 to 11913\n",
            "Data columns (total 16 columns):\n",
            " #   Column             Non-Null Count  Dtype  \n",
            "---  ------             --------------  -----  \n",
            " 0   Make               11914 non-null  object \n",
            " 1   Model              11914 non-null  object \n",
            " 2   Year               11914 non-null  int64  \n",
            " 3   Engine Fuel Type   11911 non-null  object \n",
            " 4   Engine HP          11845 non-null  float64\n",
            " 5   Engine Cylinders   11884 non-null  float64\n",
            " 6   Transmission Type  11914 non-null  object \n",
            " 7   Driven_Wheels      11914 non-null  object \n",
            " 8   Number of Doors    11908 non-null  float64\n",
            " 9   Market Category    8172 non-null   object \n",
            " 10  Vehicle Size       11914 non-null  object \n",
            " 11  Vehicle Style      11914 non-null  object \n",
            " 12  highway MPG        11914 non-null  int64  \n",
            " 13  city mpg           11914 non-null  int64  \n",
            " 14  Popularity         11914 non-null  int64  \n",
            " 15  MSRP               11914 non-null  int64  \n",
            "dtypes: float64(3), int64(5), object(8)\n",
            "memory usage: 1.5+ MB\n"
          ]
        }
      ]
    },
    {
      "cell_type": "code",
      "source": [
        "df.columns = df.columns.str.lower().str.replace(' ' , '_')\n",
        "string_columns = list(df.dtypes[df.dtypes == 'object'].index)\n",
        "print(string_columns)\n",
        "for col in string_columns:\n",
        "  df[col] = df[col].str.lower().str.replace(' ' , '_')"
      ],
      "metadata": {
        "colab": {
          "base_uri": "https://localhost:8080/"
        },
        "id": "SbiwD26VGzbc",
        "outputId": "28cc1476-a27c-425a-8467-084911155929"
      },
      "execution_count": null,
      "outputs": [
        {
          "output_type": "stream",
          "name": "stdout",
          "text": [
            "['make', 'model', 'engine_fuel_type', 'transmission_type', 'driven_wheels', 'market_category', 'vehicle_size', 'vehicle_style']\n"
          ]
        }
      ]
    },
    {
      "cell_type": "code",
      "source": [
        "df.rename(columns = {'msrp' : 'price'} , inplace =True)"
      ],
      "metadata": {
        "id": "n3As_nnxJs3j"
      },
      "execution_count": null,
      "outputs": []
    },
    {
      "cell_type": "markdown",
      "source": [
        "#exploratory data analysis"
      ],
      "metadata": {
        "id": "e66Z7FFZSFhc"
      }
    },
    {
      "cell_type": "code",
      "source": [
        "pd.options.display.float_format = '{:,.2f}'.format  #to make only two decimals appear after the .\n",
        "df.describe() #summary for numerical data"
      ],
      "metadata": {
        "colab": {
          "base_uri": "https://localhost:8080/",
          "height": 300
        },
        "id": "LbQymfKaSJGz",
        "outputId": "6115e5b8-1a2f-43db-a20b-09c7c9d5fbdf"
      },
      "execution_count": null,
      "outputs": [
        {
          "output_type": "execute_result",
          "data": {
            "text/plain": [
              "           year  engine_hp  engine_cylinders  number_of_doors  highway_mpg  \\\n",
              "count 11,914.00  11,845.00         11,884.00        11,908.00    11,914.00   \n",
              "mean   2,010.38     249.39              5.63             3.44        26.64   \n",
              "std        7.58     109.19              1.78             0.88         8.86   \n",
              "min    1,990.00      55.00              0.00             2.00        12.00   \n",
              "25%    2,007.00     170.00              4.00             2.00        22.00   \n",
              "50%    2,015.00     227.00              6.00             4.00        26.00   \n",
              "75%    2,016.00     300.00              6.00             4.00        30.00   \n",
              "max    2,017.00   1,001.00             16.00             4.00       354.00   \n",
              "\n",
              "       city_mpg  popularity        price  \n",
              "count 11,914.00   11,914.00    11,914.00  \n",
              "mean      19.73    1,554.91    40,594.74  \n",
              "std        8.99    1,441.86    60,109.10  \n",
              "min        7.00        2.00     2,000.00  \n",
              "25%       16.00      549.00    21,000.00  \n",
              "50%       18.00    1,385.00    29,995.00  \n",
              "75%       22.00    2,009.00    42,231.25  \n",
              "max      137.00    5,657.00 2,065,902.00  "
            ],
            "text/html": [
              "\n",
              "  <div id=\"df-0e94ca86-e69e-4928-8d36-b62bf72a9d94\" class=\"colab-df-container\">\n",
              "    <div>\n",
              "<style scoped>\n",
              "    .dataframe tbody tr th:only-of-type {\n",
              "        vertical-align: middle;\n",
              "    }\n",
              "\n",
              "    .dataframe tbody tr th {\n",
              "        vertical-align: top;\n",
              "    }\n",
              "\n",
              "    .dataframe thead th {\n",
              "        text-align: right;\n",
              "    }\n",
              "</style>\n",
              "<table border=\"1\" class=\"dataframe\">\n",
              "  <thead>\n",
              "    <tr style=\"text-align: right;\">\n",
              "      <th></th>\n",
              "      <th>year</th>\n",
              "      <th>engine_hp</th>\n",
              "      <th>engine_cylinders</th>\n",
              "      <th>number_of_doors</th>\n",
              "      <th>highway_mpg</th>\n",
              "      <th>city_mpg</th>\n",
              "      <th>popularity</th>\n",
              "      <th>price</th>\n",
              "    </tr>\n",
              "  </thead>\n",
              "  <tbody>\n",
              "    <tr>\n",
              "      <th>count</th>\n",
              "      <td>11,914.00</td>\n",
              "      <td>11,845.00</td>\n",
              "      <td>11,884.00</td>\n",
              "      <td>11,908.00</td>\n",
              "      <td>11,914.00</td>\n",
              "      <td>11,914.00</td>\n",
              "      <td>11,914.00</td>\n",
              "      <td>11,914.00</td>\n",
              "    </tr>\n",
              "    <tr>\n",
              "      <th>mean</th>\n",
              "      <td>2,010.38</td>\n",
              "      <td>249.39</td>\n",
              "      <td>5.63</td>\n",
              "      <td>3.44</td>\n",
              "      <td>26.64</td>\n",
              "      <td>19.73</td>\n",
              "      <td>1,554.91</td>\n",
              "      <td>40,594.74</td>\n",
              "    </tr>\n",
              "    <tr>\n",
              "      <th>std</th>\n",
              "      <td>7.58</td>\n",
              "      <td>109.19</td>\n",
              "      <td>1.78</td>\n",
              "      <td>0.88</td>\n",
              "      <td>8.86</td>\n",
              "      <td>8.99</td>\n",
              "      <td>1,441.86</td>\n",
              "      <td>60,109.10</td>\n",
              "    </tr>\n",
              "    <tr>\n",
              "      <th>min</th>\n",
              "      <td>1,990.00</td>\n",
              "      <td>55.00</td>\n",
              "      <td>0.00</td>\n",
              "      <td>2.00</td>\n",
              "      <td>12.00</td>\n",
              "      <td>7.00</td>\n",
              "      <td>2.00</td>\n",
              "      <td>2,000.00</td>\n",
              "    </tr>\n",
              "    <tr>\n",
              "      <th>25%</th>\n",
              "      <td>2,007.00</td>\n",
              "      <td>170.00</td>\n",
              "      <td>4.00</td>\n",
              "      <td>2.00</td>\n",
              "      <td>22.00</td>\n",
              "      <td>16.00</td>\n",
              "      <td>549.00</td>\n",
              "      <td>21,000.00</td>\n",
              "    </tr>\n",
              "    <tr>\n",
              "      <th>50%</th>\n",
              "      <td>2,015.00</td>\n",
              "      <td>227.00</td>\n",
              "      <td>6.00</td>\n",
              "      <td>4.00</td>\n",
              "      <td>26.00</td>\n",
              "      <td>18.00</td>\n",
              "      <td>1,385.00</td>\n",
              "      <td>29,995.00</td>\n",
              "    </tr>\n",
              "    <tr>\n",
              "      <th>75%</th>\n",
              "      <td>2,016.00</td>\n",
              "      <td>300.00</td>\n",
              "      <td>6.00</td>\n",
              "      <td>4.00</td>\n",
              "      <td>30.00</td>\n",
              "      <td>22.00</td>\n",
              "      <td>2,009.00</td>\n",
              "      <td>42,231.25</td>\n",
              "    </tr>\n",
              "    <tr>\n",
              "      <th>max</th>\n",
              "      <td>2,017.00</td>\n",
              "      <td>1,001.00</td>\n",
              "      <td>16.00</td>\n",
              "      <td>4.00</td>\n",
              "      <td>354.00</td>\n",
              "      <td>137.00</td>\n",
              "      <td>5,657.00</td>\n",
              "      <td>2,065,902.00</td>\n",
              "    </tr>\n",
              "  </tbody>\n",
              "</table>\n",
              "</div>\n",
              "    <div class=\"colab-df-buttons\">\n",
              "\n",
              "  <div class=\"colab-df-container\">\n",
              "    <button class=\"colab-df-convert\" onclick=\"convertToInteractive('df-0e94ca86-e69e-4928-8d36-b62bf72a9d94')\"\n",
              "            title=\"Convert this dataframe to an interactive table.\"\n",
              "            style=\"display:none;\">\n",
              "\n",
              "  <svg xmlns=\"http://www.w3.org/2000/svg\" height=\"24px\" viewBox=\"0 -960 960 960\">\n",
              "    <path d=\"M120-120v-720h720v720H120Zm60-500h600v-160H180v160Zm220 220h160v-160H400v160Zm0 220h160v-160H400v160ZM180-400h160v-160H180v160Zm440 0h160v-160H620v160ZM180-180h160v-160H180v160Zm440 0h160v-160H620v160Z\"/>\n",
              "  </svg>\n",
              "    </button>\n",
              "\n",
              "  <style>\n",
              "    .colab-df-container {\n",
              "      display:flex;\n",
              "      gap: 12px;\n",
              "    }\n",
              "\n",
              "    .colab-df-convert {\n",
              "      background-color: #E8F0FE;\n",
              "      border: none;\n",
              "      border-radius: 50%;\n",
              "      cursor: pointer;\n",
              "      display: none;\n",
              "      fill: #1967D2;\n",
              "      height: 32px;\n",
              "      padding: 0 0 0 0;\n",
              "      width: 32px;\n",
              "    }\n",
              "\n",
              "    .colab-df-convert:hover {\n",
              "      background-color: #E2EBFA;\n",
              "      box-shadow: 0px 1px 2px rgba(60, 64, 67, 0.3), 0px 1px 3px 1px rgba(60, 64, 67, 0.15);\n",
              "      fill: #174EA6;\n",
              "    }\n",
              "\n",
              "    .colab-df-buttons div {\n",
              "      margin-bottom: 4px;\n",
              "    }\n",
              "\n",
              "    [theme=dark] .colab-df-convert {\n",
              "      background-color: #3B4455;\n",
              "      fill: #D2E3FC;\n",
              "    }\n",
              "\n",
              "    [theme=dark] .colab-df-convert:hover {\n",
              "      background-color: #434B5C;\n",
              "      box-shadow: 0px 1px 3px 1px rgba(0, 0, 0, 0.15);\n",
              "      filter: drop-shadow(0px 1px 2px rgba(0, 0, 0, 0.3));\n",
              "      fill: #FFFFFF;\n",
              "    }\n",
              "  </style>\n",
              "\n",
              "    <script>\n",
              "      const buttonEl =\n",
              "        document.querySelector('#df-0e94ca86-e69e-4928-8d36-b62bf72a9d94 button.colab-df-convert');\n",
              "      buttonEl.style.display =\n",
              "        google.colab.kernel.accessAllowed ? 'block' : 'none';\n",
              "\n",
              "      async function convertToInteractive(key) {\n",
              "        const element = document.querySelector('#df-0e94ca86-e69e-4928-8d36-b62bf72a9d94');\n",
              "        const dataTable =\n",
              "          await google.colab.kernel.invokeFunction('convertToInteractive',\n",
              "                                                    [key], {});\n",
              "        if (!dataTable) return;\n",
              "\n",
              "        const docLinkHtml = 'Like what you see? Visit the ' +\n",
              "          '<a target=\"_blank\" href=https://colab.research.google.com/notebooks/data_table.ipynb>data table notebook</a>'\n",
              "          + ' to learn more about interactive tables.';\n",
              "        element.innerHTML = '';\n",
              "        dataTable['output_type'] = 'display_data';\n",
              "        await google.colab.output.renderOutput(dataTable, element);\n",
              "        const docLink = document.createElement('div');\n",
              "        docLink.innerHTML = docLinkHtml;\n",
              "        element.appendChild(docLink);\n",
              "      }\n",
              "    </script>\n",
              "  </div>\n",
              "\n",
              "\n",
              "<div id=\"df-33434d69-dc30-49e7-bda9-991584ee0717\">\n",
              "  <button class=\"colab-df-quickchart\" onclick=\"quickchart('df-33434d69-dc30-49e7-bda9-991584ee0717')\"\n",
              "            title=\"Suggest charts\"\n",
              "            style=\"display:none;\">\n",
              "\n",
              "<svg xmlns=\"http://www.w3.org/2000/svg\" height=\"24px\"viewBox=\"0 0 24 24\"\n",
              "     width=\"24px\">\n",
              "    <g>\n",
              "        <path d=\"M19 3H5c-1.1 0-2 .9-2 2v14c0 1.1.9 2 2 2h14c1.1 0 2-.9 2-2V5c0-1.1-.9-2-2-2zM9 17H7v-7h2v7zm4 0h-2V7h2v10zm4 0h-2v-4h2v4z\"/>\n",
              "    </g>\n",
              "</svg>\n",
              "  </button>\n",
              "\n",
              "<style>\n",
              "  .colab-df-quickchart {\n",
              "      --bg-color: #E8F0FE;\n",
              "      --fill-color: #1967D2;\n",
              "      --hover-bg-color: #E2EBFA;\n",
              "      --hover-fill-color: #174EA6;\n",
              "      --disabled-fill-color: #AAA;\n",
              "      --disabled-bg-color: #DDD;\n",
              "  }\n",
              "\n",
              "  [theme=dark] .colab-df-quickchart {\n",
              "      --bg-color: #3B4455;\n",
              "      --fill-color: #D2E3FC;\n",
              "      --hover-bg-color: #434B5C;\n",
              "      --hover-fill-color: #FFFFFF;\n",
              "      --disabled-bg-color: #3B4455;\n",
              "      --disabled-fill-color: #666;\n",
              "  }\n",
              "\n",
              "  .colab-df-quickchart {\n",
              "    background-color: var(--bg-color);\n",
              "    border: none;\n",
              "    border-radius: 50%;\n",
              "    cursor: pointer;\n",
              "    display: none;\n",
              "    fill: var(--fill-color);\n",
              "    height: 32px;\n",
              "    padding: 0;\n",
              "    width: 32px;\n",
              "  }\n",
              "\n",
              "  .colab-df-quickchart:hover {\n",
              "    background-color: var(--hover-bg-color);\n",
              "    box-shadow: 0 1px 2px rgba(60, 64, 67, 0.3), 0 1px 3px 1px rgba(60, 64, 67, 0.15);\n",
              "    fill: var(--button-hover-fill-color);\n",
              "  }\n",
              "\n",
              "  .colab-df-quickchart-complete:disabled,\n",
              "  .colab-df-quickchart-complete:disabled:hover {\n",
              "    background-color: var(--disabled-bg-color);\n",
              "    fill: var(--disabled-fill-color);\n",
              "    box-shadow: none;\n",
              "  }\n",
              "\n",
              "  .colab-df-spinner {\n",
              "    border: 2px solid var(--fill-color);\n",
              "    border-color: transparent;\n",
              "    border-bottom-color: var(--fill-color);\n",
              "    animation:\n",
              "      spin 1s steps(1) infinite;\n",
              "  }\n",
              "\n",
              "  @keyframes spin {\n",
              "    0% {\n",
              "      border-color: transparent;\n",
              "      border-bottom-color: var(--fill-color);\n",
              "      border-left-color: var(--fill-color);\n",
              "    }\n",
              "    20% {\n",
              "      border-color: transparent;\n",
              "      border-left-color: var(--fill-color);\n",
              "      border-top-color: var(--fill-color);\n",
              "    }\n",
              "    30% {\n",
              "      border-color: transparent;\n",
              "      border-left-color: var(--fill-color);\n",
              "      border-top-color: var(--fill-color);\n",
              "      border-right-color: var(--fill-color);\n",
              "    }\n",
              "    40% {\n",
              "      border-color: transparent;\n",
              "      border-right-color: var(--fill-color);\n",
              "      border-top-color: var(--fill-color);\n",
              "    }\n",
              "    60% {\n",
              "      border-color: transparent;\n",
              "      border-right-color: var(--fill-color);\n",
              "    }\n",
              "    80% {\n",
              "      border-color: transparent;\n",
              "      border-right-color: var(--fill-color);\n",
              "      border-bottom-color: var(--fill-color);\n",
              "    }\n",
              "    90% {\n",
              "      border-color: transparent;\n",
              "      border-bottom-color: var(--fill-color);\n",
              "    }\n",
              "  }\n",
              "</style>\n",
              "\n",
              "  <script>\n",
              "    async function quickchart(key) {\n",
              "      const quickchartButtonEl =\n",
              "        document.querySelector('#' + key + ' button');\n",
              "      quickchartButtonEl.disabled = true;  // To prevent multiple clicks.\n",
              "      quickchartButtonEl.classList.add('colab-df-spinner');\n",
              "      try {\n",
              "        const charts = await google.colab.kernel.invokeFunction(\n",
              "            'suggestCharts', [key], {});\n",
              "      } catch (error) {\n",
              "        console.error('Error during call to suggestCharts:', error);\n",
              "      }\n",
              "      quickchartButtonEl.classList.remove('colab-df-spinner');\n",
              "      quickchartButtonEl.classList.add('colab-df-quickchart-complete');\n",
              "    }\n",
              "    (() => {\n",
              "      let quickchartButtonEl =\n",
              "        document.querySelector('#df-33434d69-dc30-49e7-bda9-991584ee0717 button');\n",
              "      quickchartButtonEl.style.display =\n",
              "        google.colab.kernel.accessAllowed ? 'block' : 'none';\n",
              "    })();\n",
              "  </script>\n",
              "</div>\n",
              "\n",
              "    </div>\n",
              "  </div>\n"
            ],
            "application/vnd.google.colaboratory.intrinsic+json": {
              "type": "dataframe",
              "summary": "{\n  \"name\": \"df\",\n  \"rows\": 8,\n  \"fields\": [\n    {\n      \"column\": \"year\",\n      \"properties\": {\n        \"dtype\": \"number\",\n        \"std\": 3670.425565835639,\n        \"min\": 7.579739887595705,\n        \"max\": 11914.0,\n        \"num_unique_values\": 8,\n        \"samples\": [\n          2010.384337753903,\n          2015.0,\n          11914.0\n        ],\n        \"semantic_type\": \"\",\n        \"description\": \"\"\n      }\n    },\n    {\n      \"column\": \"engine_hp\",\n      \"properties\": {\n        \"dtype\": \"number\",\n        \"std\": 4091.896832258151,\n        \"min\": 55.0,\n        \"max\": 11845.0,\n        \"num_unique_values\": 8,\n        \"samples\": [\n          249.38607007176023,\n          227.0,\n          11845.0\n        ],\n        \"semantic_type\": \"\",\n        \"description\": \"\"\n      }\n    },\n    {\n      \"column\": \"engine_cylinders\",\n      \"properties\": {\n        \"dtype\": \"number\",\n        \"std\": 4199.640689133794,\n        \"min\": 0.0,\n        \"max\": 11884.0,\n        \"num_unique_values\": 7,\n        \"samples\": [\n          11884.0,\n          5.628828677213059,\n          6.0\n        ],\n        \"semantic_type\": \"\",\n        \"description\": \"\"\n      }\n    },\n    {\n      \"column\": \"number_of_doors\",\n      \"properties\": {\n        \"dtype\": \"number\",\n        \"std\": 4209.08775420028,\n        \"min\": 0.8813153865835543,\n        \"max\": 11908.0,\n        \"num_unique_values\": 5,\n        \"samples\": [\n          3.4360933825999327,\n          4.0,\n          0.8813153865835543\n        ],\n        \"semantic_type\": \"\",\n        \"description\": \"\"\n      }\n    },\n    {\n      \"column\": \"highway_mpg\",\n      \"properties\": {\n        \"dtype\": \"number\",\n        \"std\": 4189.644501132749,\n        \"min\": 8.863000766979432,\n        \"max\": 11914.0,\n        \"num_unique_values\": 8,\n        \"samples\": [\n          26.637485311398354,\n          26.0,\n          11914.0\n        ],\n        \"semantic_type\": \"\",\n        \"description\": \"\"\n      }\n    },\n    {\n      \"column\": \"city_mpg\",\n      \"properties\": {\n        \"dtype\": \"number\",\n        \"std\": 4200.901924587632,\n        \"min\": 7.0,\n        \"max\": 11914.0,\n        \"num_unique_values\": 8,\n        \"samples\": [\n          19.73325499412456,\n          18.0,\n          11914.0\n        ],\n        \"semantic_type\": \"\",\n        \"description\": \"\"\n      }\n    },\n    {\n      \"column\": \"popularity\",\n      \"properties\": {\n        \"dtype\": \"number\",\n        \"std\": 3956.693898024036,\n        \"min\": 2.0,\n        \"max\": 11914.0,\n        \"num_unique_values\": 8,\n        \"samples\": [\n          1554.9111969111968,\n          1385.0,\n          11914.0\n        ],\n        \"semantic_type\": \"\",\n        \"description\": \"\"\n      }\n    },\n    {\n      \"column\": \"price\",\n      \"properties\": {\n        \"dtype\": \"number\",\n        \"std\": 720143.0484808604,\n        \"min\": 2000.0,\n        \"max\": 2065902.0,\n        \"num_unique_values\": 8,\n        \"samples\": [\n          40594.737032063116,\n          29995.0,\n          11914.0\n        ],\n        \"semantic_type\": \"\",\n        \"description\": \"\"\n      }\n    }\n  ]\n}"
            }
          },
          "metadata": {},
          "execution_count": 11
        }
      ]
    },
    {
      "cell_type": "code",
      "source": [
        "df.describe(include=['O']) #summary for categorical data"
      ],
      "metadata": {
        "colab": {
          "base_uri": "https://localhost:8080/",
          "height": 175
        },
        "id": "uAzPkEfDTdFj",
        "outputId": "bd358bbb-a77f-46c9-c765-e57fc42480bd"
      },
      "execution_count": null,
      "outputs": [
        {
          "output_type": "execute_result",
          "data": {
            "text/plain": [
              "             make           model  engine_fuel_type transmission_type  \\\n",
              "count       11914           11914             11911             11914   \n",
              "unique         48             914                10                 5   \n",
              "top     chevrolet  silverado_1500  regular_unleaded         automatic   \n",
              "freq         1123             156              7172              8266   \n",
              "\n",
              "            driven_wheels market_category vehicle_size vehicle_style  \n",
              "count               11914            8172        11914         11914  \n",
              "unique                  4              71            3            16  \n",
              "top     front_wheel_drive       crossover      compact         sedan  \n",
              "freq                 4787            1110         4764          3048  "
            ],
            "text/html": [
              "\n",
              "  <div id=\"df-9c9b1ca1-08e8-46c3-adb2-fc1f24c41b85\" class=\"colab-df-container\">\n",
              "    <div>\n",
              "<style scoped>\n",
              "    .dataframe tbody tr th:only-of-type {\n",
              "        vertical-align: middle;\n",
              "    }\n",
              "\n",
              "    .dataframe tbody tr th {\n",
              "        vertical-align: top;\n",
              "    }\n",
              "\n",
              "    .dataframe thead th {\n",
              "        text-align: right;\n",
              "    }\n",
              "</style>\n",
              "<table border=\"1\" class=\"dataframe\">\n",
              "  <thead>\n",
              "    <tr style=\"text-align: right;\">\n",
              "      <th></th>\n",
              "      <th>make</th>\n",
              "      <th>model</th>\n",
              "      <th>engine_fuel_type</th>\n",
              "      <th>transmission_type</th>\n",
              "      <th>driven_wheels</th>\n",
              "      <th>market_category</th>\n",
              "      <th>vehicle_size</th>\n",
              "      <th>vehicle_style</th>\n",
              "    </tr>\n",
              "  </thead>\n",
              "  <tbody>\n",
              "    <tr>\n",
              "      <th>count</th>\n",
              "      <td>11914</td>\n",
              "      <td>11914</td>\n",
              "      <td>11911</td>\n",
              "      <td>11914</td>\n",
              "      <td>11914</td>\n",
              "      <td>8172</td>\n",
              "      <td>11914</td>\n",
              "      <td>11914</td>\n",
              "    </tr>\n",
              "    <tr>\n",
              "      <th>unique</th>\n",
              "      <td>48</td>\n",
              "      <td>914</td>\n",
              "      <td>10</td>\n",
              "      <td>5</td>\n",
              "      <td>4</td>\n",
              "      <td>71</td>\n",
              "      <td>3</td>\n",
              "      <td>16</td>\n",
              "    </tr>\n",
              "    <tr>\n",
              "      <th>top</th>\n",
              "      <td>chevrolet</td>\n",
              "      <td>silverado_1500</td>\n",
              "      <td>regular_unleaded</td>\n",
              "      <td>automatic</td>\n",
              "      <td>front_wheel_drive</td>\n",
              "      <td>crossover</td>\n",
              "      <td>compact</td>\n",
              "      <td>sedan</td>\n",
              "    </tr>\n",
              "    <tr>\n",
              "      <th>freq</th>\n",
              "      <td>1123</td>\n",
              "      <td>156</td>\n",
              "      <td>7172</td>\n",
              "      <td>8266</td>\n",
              "      <td>4787</td>\n",
              "      <td>1110</td>\n",
              "      <td>4764</td>\n",
              "      <td>3048</td>\n",
              "    </tr>\n",
              "  </tbody>\n",
              "</table>\n",
              "</div>\n",
              "    <div class=\"colab-df-buttons\">\n",
              "\n",
              "  <div class=\"colab-df-container\">\n",
              "    <button class=\"colab-df-convert\" onclick=\"convertToInteractive('df-9c9b1ca1-08e8-46c3-adb2-fc1f24c41b85')\"\n",
              "            title=\"Convert this dataframe to an interactive table.\"\n",
              "            style=\"display:none;\">\n",
              "\n",
              "  <svg xmlns=\"http://www.w3.org/2000/svg\" height=\"24px\" viewBox=\"0 -960 960 960\">\n",
              "    <path d=\"M120-120v-720h720v720H120Zm60-500h600v-160H180v160Zm220 220h160v-160H400v160Zm0 220h160v-160H400v160ZM180-400h160v-160H180v160Zm440 0h160v-160H620v160ZM180-180h160v-160H180v160Zm440 0h160v-160H620v160Z\"/>\n",
              "  </svg>\n",
              "    </button>\n",
              "\n",
              "  <style>\n",
              "    .colab-df-container {\n",
              "      display:flex;\n",
              "      gap: 12px;\n",
              "    }\n",
              "\n",
              "    .colab-df-convert {\n",
              "      background-color: #E8F0FE;\n",
              "      border: none;\n",
              "      border-radius: 50%;\n",
              "      cursor: pointer;\n",
              "      display: none;\n",
              "      fill: #1967D2;\n",
              "      height: 32px;\n",
              "      padding: 0 0 0 0;\n",
              "      width: 32px;\n",
              "    }\n",
              "\n",
              "    .colab-df-convert:hover {\n",
              "      background-color: #E2EBFA;\n",
              "      box-shadow: 0px 1px 2px rgba(60, 64, 67, 0.3), 0px 1px 3px 1px rgba(60, 64, 67, 0.15);\n",
              "      fill: #174EA6;\n",
              "    }\n",
              "\n",
              "    .colab-df-buttons div {\n",
              "      margin-bottom: 4px;\n",
              "    }\n",
              "\n",
              "    [theme=dark] .colab-df-convert {\n",
              "      background-color: #3B4455;\n",
              "      fill: #D2E3FC;\n",
              "    }\n",
              "\n",
              "    [theme=dark] .colab-df-convert:hover {\n",
              "      background-color: #434B5C;\n",
              "      box-shadow: 0px 1px 3px 1px rgba(0, 0, 0, 0.15);\n",
              "      filter: drop-shadow(0px 1px 2px rgba(0, 0, 0, 0.3));\n",
              "      fill: #FFFFFF;\n",
              "    }\n",
              "  </style>\n",
              "\n",
              "    <script>\n",
              "      const buttonEl =\n",
              "        document.querySelector('#df-9c9b1ca1-08e8-46c3-adb2-fc1f24c41b85 button.colab-df-convert');\n",
              "      buttonEl.style.display =\n",
              "        google.colab.kernel.accessAllowed ? 'block' : 'none';\n",
              "\n",
              "      async function convertToInteractive(key) {\n",
              "        const element = document.querySelector('#df-9c9b1ca1-08e8-46c3-adb2-fc1f24c41b85');\n",
              "        const dataTable =\n",
              "          await google.colab.kernel.invokeFunction('convertToInteractive',\n",
              "                                                    [key], {});\n",
              "        if (!dataTable) return;\n",
              "\n",
              "        const docLinkHtml = 'Like what you see? Visit the ' +\n",
              "          '<a target=\"_blank\" href=https://colab.research.google.com/notebooks/data_table.ipynb>data table notebook</a>'\n",
              "          + ' to learn more about interactive tables.';\n",
              "        element.innerHTML = '';\n",
              "        dataTable['output_type'] = 'display_data';\n",
              "        await google.colab.output.renderOutput(dataTable, element);\n",
              "        const docLink = document.createElement('div');\n",
              "        docLink.innerHTML = docLinkHtml;\n",
              "        element.appendChild(docLink);\n",
              "      }\n",
              "    </script>\n",
              "  </div>\n",
              "\n",
              "\n",
              "<div id=\"df-9aa57ce5-6f0b-419d-ba46-6dd8c457f150\">\n",
              "  <button class=\"colab-df-quickchart\" onclick=\"quickchart('df-9aa57ce5-6f0b-419d-ba46-6dd8c457f150')\"\n",
              "            title=\"Suggest charts\"\n",
              "            style=\"display:none;\">\n",
              "\n",
              "<svg xmlns=\"http://www.w3.org/2000/svg\" height=\"24px\"viewBox=\"0 0 24 24\"\n",
              "     width=\"24px\">\n",
              "    <g>\n",
              "        <path d=\"M19 3H5c-1.1 0-2 .9-2 2v14c0 1.1.9 2 2 2h14c1.1 0 2-.9 2-2V5c0-1.1-.9-2-2-2zM9 17H7v-7h2v7zm4 0h-2V7h2v10zm4 0h-2v-4h2v4z\"/>\n",
              "    </g>\n",
              "</svg>\n",
              "  </button>\n",
              "\n",
              "<style>\n",
              "  .colab-df-quickchart {\n",
              "      --bg-color: #E8F0FE;\n",
              "      --fill-color: #1967D2;\n",
              "      --hover-bg-color: #E2EBFA;\n",
              "      --hover-fill-color: #174EA6;\n",
              "      --disabled-fill-color: #AAA;\n",
              "      --disabled-bg-color: #DDD;\n",
              "  }\n",
              "\n",
              "  [theme=dark] .colab-df-quickchart {\n",
              "      --bg-color: #3B4455;\n",
              "      --fill-color: #D2E3FC;\n",
              "      --hover-bg-color: #434B5C;\n",
              "      --hover-fill-color: #FFFFFF;\n",
              "      --disabled-bg-color: #3B4455;\n",
              "      --disabled-fill-color: #666;\n",
              "  }\n",
              "\n",
              "  .colab-df-quickchart {\n",
              "    background-color: var(--bg-color);\n",
              "    border: none;\n",
              "    border-radius: 50%;\n",
              "    cursor: pointer;\n",
              "    display: none;\n",
              "    fill: var(--fill-color);\n",
              "    height: 32px;\n",
              "    padding: 0;\n",
              "    width: 32px;\n",
              "  }\n",
              "\n",
              "  .colab-df-quickchart:hover {\n",
              "    background-color: var(--hover-bg-color);\n",
              "    box-shadow: 0 1px 2px rgba(60, 64, 67, 0.3), 0 1px 3px 1px rgba(60, 64, 67, 0.15);\n",
              "    fill: var(--button-hover-fill-color);\n",
              "  }\n",
              "\n",
              "  .colab-df-quickchart-complete:disabled,\n",
              "  .colab-df-quickchart-complete:disabled:hover {\n",
              "    background-color: var(--disabled-bg-color);\n",
              "    fill: var(--disabled-fill-color);\n",
              "    box-shadow: none;\n",
              "  }\n",
              "\n",
              "  .colab-df-spinner {\n",
              "    border: 2px solid var(--fill-color);\n",
              "    border-color: transparent;\n",
              "    border-bottom-color: var(--fill-color);\n",
              "    animation:\n",
              "      spin 1s steps(1) infinite;\n",
              "  }\n",
              "\n",
              "  @keyframes spin {\n",
              "    0% {\n",
              "      border-color: transparent;\n",
              "      border-bottom-color: var(--fill-color);\n",
              "      border-left-color: var(--fill-color);\n",
              "    }\n",
              "    20% {\n",
              "      border-color: transparent;\n",
              "      border-left-color: var(--fill-color);\n",
              "      border-top-color: var(--fill-color);\n",
              "    }\n",
              "    30% {\n",
              "      border-color: transparent;\n",
              "      border-left-color: var(--fill-color);\n",
              "      border-top-color: var(--fill-color);\n",
              "      border-right-color: var(--fill-color);\n",
              "    }\n",
              "    40% {\n",
              "      border-color: transparent;\n",
              "      border-right-color: var(--fill-color);\n",
              "      border-top-color: var(--fill-color);\n",
              "    }\n",
              "    60% {\n",
              "      border-color: transparent;\n",
              "      border-right-color: var(--fill-color);\n",
              "    }\n",
              "    80% {\n",
              "      border-color: transparent;\n",
              "      border-right-color: var(--fill-color);\n",
              "      border-bottom-color: var(--fill-color);\n",
              "    }\n",
              "    90% {\n",
              "      border-color: transparent;\n",
              "      border-bottom-color: var(--fill-color);\n",
              "    }\n",
              "  }\n",
              "</style>\n",
              "\n",
              "  <script>\n",
              "    async function quickchart(key) {\n",
              "      const quickchartButtonEl =\n",
              "        document.querySelector('#' + key + ' button');\n",
              "      quickchartButtonEl.disabled = true;  // To prevent multiple clicks.\n",
              "      quickchartButtonEl.classList.add('colab-df-spinner');\n",
              "      try {\n",
              "        const charts = await google.colab.kernel.invokeFunction(\n",
              "            'suggestCharts', [key], {});\n",
              "      } catch (error) {\n",
              "        console.error('Error during call to suggestCharts:', error);\n",
              "      }\n",
              "      quickchartButtonEl.classList.remove('colab-df-spinner');\n",
              "      quickchartButtonEl.classList.add('colab-df-quickchart-complete');\n",
              "    }\n",
              "    (() => {\n",
              "      let quickchartButtonEl =\n",
              "        document.querySelector('#df-9aa57ce5-6f0b-419d-ba46-6dd8c457f150 button');\n",
              "      quickchartButtonEl.style.display =\n",
              "        google.colab.kernel.accessAllowed ? 'block' : 'none';\n",
              "    })();\n",
              "  </script>\n",
              "</div>\n",
              "\n",
              "    </div>\n",
              "  </div>\n"
            ],
            "application/vnd.google.colaboratory.intrinsic+json": {
              "type": "dataframe",
              "summary": "{\n  \"name\": \"df\",\n  \"rows\": 4,\n  \"fields\": [\n    {\n      \"column\": \"make\",\n      \"properties\": {\n        \"dtype\": \"string\",\n        \"num_unique_values\": 4,\n        \"samples\": [\n          48,\n          \"1123\",\n          \"11914\"\n        ],\n        \"semantic_type\": \"\",\n        \"description\": \"\"\n      }\n    },\n    {\n      \"column\": \"model\",\n      \"properties\": {\n        \"dtype\": \"string\",\n        \"num_unique_values\": 4,\n        \"samples\": [\n          914,\n          \"156\",\n          \"11914\"\n        ],\n        \"semantic_type\": \"\",\n        \"description\": \"\"\n      }\n    },\n    {\n      \"column\": \"engine_fuel_type\",\n      \"properties\": {\n        \"dtype\": \"string\",\n        \"num_unique_values\": 4,\n        \"samples\": [\n          10,\n          \"7172\",\n          \"11911\"\n        ],\n        \"semantic_type\": \"\",\n        \"description\": \"\"\n      }\n    },\n    {\n      \"column\": \"transmission_type\",\n      \"properties\": {\n        \"dtype\": \"string\",\n        \"num_unique_values\": 4,\n        \"samples\": [\n          5,\n          \"8266\",\n          \"11914\"\n        ],\n        \"semantic_type\": \"\",\n        \"description\": \"\"\n      }\n    },\n    {\n      \"column\": \"driven_wheels\",\n      \"properties\": {\n        \"dtype\": \"string\",\n        \"num_unique_values\": 4,\n        \"samples\": [\n          4,\n          \"4787\",\n          \"11914\"\n        ],\n        \"semantic_type\": \"\",\n        \"description\": \"\"\n      }\n    },\n    {\n      \"column\": \"market_category\",\n      \"properties\": {\n        \"dtype\": \"string\",\n        \"num_unique_values\": 4,\n        \"samples\": [\n          71,\n          \"1110\",\n          \"8172\"\n        ],\n        \"semantic_type\": \"\",\n        \"description\": \"\"\n      }\n    },\n    {\n      \"column\": \"vehicle_size\",\n      \"properties\": {\n        \"dtype\": \"string\",\n        \"num_unique_values\": 4,\n        \"samples\": [\n          3,\n          \"4764\",\n          \"11914\"\n        ],\n        \"semantic_type\": \"\",\n        \"description\": \"\"\n      }\n    },\n    {\n      \"column\": \"vehicle_style\",\n      \"properties\": {\n        \"dtype\": \"string\",\n        \"num_unique_values\": 4,\n        \"samples\": [\n          16,\n          \"3048\",\n          \"11914\"\n        ],\n        \"semantic_type\": \"\",\n        \"description\": \"\"\n      }\n    }\n  ]\n}"
            }
          },
          "metadata": {},
          "execution_count": 12
        }
      ]
    },
    {
      "cell_type": "markdown",
      "source": [
        "#target varible analysis (price)"
      ],
      "metadata": {
        "id": "43fLaWR3UBNw"
      }
    },
    {
      "cell_type": "code",
      "source": [
        "plt.figure(figsize=(6,4))\n",
        "sns.histplot(df.price , bins = 40)\n",
        "plt.ylabel('frequency')\n",
        "plt.xlabel('Price')\n",
        "plt.title('distribution of prices')\n",
        "plt.show()\n"
      ],
      "metadata": {
        "colab": {
          "base_uri": "https://localhost:8080/",
          "height": 419
        },
        "id": "7StNKcOlUFgD",
        "outputId": "e8cef740-fda7-4984-978d-f26631ed5006"
      },
      "execution_count": null,
      "outputs": [
        {
          "output_type": "display_data",
          "data": {
            "text/plain": [
              "<Figure size 600x400 with 1 Axes>"
            ],
            "image/png": "[encoded data removed]"
          },
          "metadata": {}
        }
      ]
    },
    {
      "cell_type": "markdown",
      "source": [
        " this is a **long tail** distribution , we can have closer look by zooming in a bit and looking at values below $100,000\n",
        "\n",
        "\n"
      ],
      "metadata": {
        "id": "9pR3PScWVoxK"
      }
    },
    {
      "cell_type": "code",
      "source": [
        "plt.figure(figsize=(6, 4))\n",
        "sns.histplot(df.price[df.price<100000] , bins = 40)\n",
        "plt.ylabel('frequency')\n",
        "plt.xlabel('Price')\n",
        "plt.title('distribution of prices')\n",
        "plt.show()"
      ],
      "metadata": {
        "colab": {
          "base_uri": "https://localhost:8080/",
          "height": 419
        },
        "id": "U0o8IGrrWG9X",
        "outputId": "9490eca2-ce5d-4a6b-c725-23c21223caaf"
      },
      "execution_count": null,
      "outputs": [
        {
          "output_type": "display_data",
          "data": {
            "text/plain": [
              "<Figure size 600x400 with 1 Axes>"
            ],
            "image/png": "[encoded data removed]"
          },
          "metadata": {}
        }
      ]
    },
    {
      "cell_type": "markdown",
      "source": [
        "the long tail makes it quite difficult for us to see the distribution , but it has an even stronger effect on a model such :distribution can greatly confuse the model , so it won't learn enough.\n",
        "\n",
        "\n",
        "> one way to solve this problem is log transformation.\n",
        "\n",
        "\n",
        "\n",
        "\n",
        "\n"
      ],
      "metadata": {
        "id": "JZHTCrUXXjdJ"
      }
    },
    {
      "cell_type": "markdown",
      "source": [
        "# log transformation"
      ],
      "metadata": {
        "id": "gmh6bdzRYPjz"
      }
    },
    {
      "cell_type": "code",
      "source": [
        "df['log_price'] = np.log1p(df.price)\n",
        "\n",
        "plt.figure(figsize=(6,4))\n",
        "sns.histplot(df.log_price , bins = 40)\n",
        "plt.ylabel('frequency')\n",
        "plt.xlabel('log(Price+1)')\n",
        "plt.title('distribution of prices')\n",
        "plt.show()"
      ],
      "metadata": {
        "colab": {
          "base_uri": "https://localhost:8080/",
          "height": 419
        },
        "id": "SBGzXtFuYURt",
        "outputId": "35e8a2c7-68c0-441e-de25-5c0a3a10e5e4"
      },
      "execution_count": null,
      "outputs": [
        {
          "output_type": "display_data",
          "data": {
            "text/plain": [
              "<Figure size 600x400 with 1 Axes>"
            ],
            "image/png": "[encoded data removed]"
          },
          "metadata": {}
        }
      ]
    },
    {
      "cell_type": "code",
      "source": [
        "df.price.skew()"
      ],
      "metadata": {
        "colab": {
          "base_uri": "https://localhost:8080/"
        },
        "id": "rifkAXKeZGpB",
        "outputId": "bfd52991-a671-4bcd-d2fa-95b7660ecf4e"
      },
      "execution_count": null,
      "outputs": [
        {
          "output_type": "execute_result",
          "data": {
            "text/plain": [
              "11.771987129334972"
            ]
          },
          "metadata": {},
          "execution_count": 16
        }
      ]
    },
    {
      "cell_type": "code",
      "source": [
        "df.log_price.skew()"
      ],
      "metadata": {
        "id": "mHjjunq8ZNIw",
        "outputId": "5f9a851f-a0b4-46e3-9df3-b1b392ee5335",
        "colab": {
          "base_uri": "https://localhost:8080/"
        }
      },
      "execution_count": null,
      "outputs": [
        {
          "output_type": "execute_result",
          "data": {
            "text/plain": [
              "-0.9178678067039072"
            ]
          },
          "metadata": {},
          "execution_count": 17
        }
      ]
    },
    {
      "cell_type": "markdown",
      "source": [
        "#check missing values"
      ],
      "metadata": {
        "id": "xsLZYAu4Fzn_"
      }
    },
    {
      "cell_type": "code",
      "source": [
        "df.isnull().sum()"
      ],
      "metadata": {
        "colab": {
          "base_uri": "https://localhost:8080/"
        },
        "id": "PSVcUPzOFpBH",
        "outputId": "f6a00e26-9a51-4118-fa60-f9f32dcd0f84"
      },
      "execution_count": null,
      "outputs": [
        {
          "output_type": "execute_result",
          "data": {
            "text/plain": [
              "make                    0\n",
              "model                   0\n",
              "year                    0\n",
              "engine_fuel_type        3\n",
              "engine_hp              69\n",
              "engine_cylinders       30\n",
              "transmission_type       0\n",
              "driven_wheels           0\n",
              "number_of_doors         6\n",
              "market_category      3742\n",
              "vehicle_size            0\n",
              "vehicle_style           0\n",
              "highway_mpg             0\n",
              "city_mpg                0\n",
              "popularity              0\n",
              "price                   0\n",
              "log_price               0\n",
              "dtype: int64"
            ]
          },
          "metadata": {},
          "execution_count": 18
        }
      ]
    },
    {
      "cell_type": "markdown",
      "source": [
        "#check categorical columns"
      ],
      "metadata": {
        "id": "44oG8v5uG7Ew"
      }
    },
    {
      "cell_type": "code",
      "source": [
        "string_columns"
      ],
      "metadata": {
        "colab": {
          "base_uri": "https://localhost:8080/"
        },
        "id": "wN-LeRogG-g-",
        "outputId": "ac9f4131-5ea4-4a71-d6f5-340cbcbb2c61"
      },
      "execution_count": null,
      "outputs": [
        {
          "output_type": "execute_result",
          "data": {
            "text/plain": [
              "['make',\n",
              " 'model',\n",
              " 'engine_fuel_type',\n",
              " 'transmission_type',\n",
              " 'driven_wheels',\n",
              " 'market_category',\n",
              " 'vehicle_size',\n",
              " 'vehicle_style']"
            ]
          },
          "metadata": {},
          "execution_count": 19
        }
      ]
    },
    {
      "cell_type": "markdown",
      "source": [
        "keep in mind that we will need to transform categorical data into numeric"
      ],
      "metadata": {
        "id": "dvrj_sBsHlR8"
      }
    },
    {
      "cell_type": "markdown",
      "source": [
        "#some questions"
      ],
      "metadata": {
        "id": "cgTe8Nl8IILT"
      }
    },
    {
      "cell_type": "markdown",
      "source": [
        "\n",
        "\n",
        ">what is the average price of bmw cars in the dataset\n",
        "\n"
      ],
      "metadata": {
        "id": "tpcG8hxrIKXt"
      }
    },
    {
      "cell_type": "code",
      "source": [
        "df.make.value_counts()"
      ],
      "metadata": {
        "colab": {
          "base_uri": "https://localhost:8080/"
        },
        "id": "m0TMWwuRIYJF",
        "outputId": "dd361ef5-2c3a-4ba5-faae-175a473709e9"
      },
      "execution_count": null,
      "outputs": [
        {
          "output_type": "execute_result",
          "data": {
            "text/plain": [
              "make\n",
              "chevrolet        1123\n",
              "ford              881\n",
              "volkswagen        809\n",
              "toyota            746\n",
              "dodge             626\n",
              "nissan            558\n",
              "gmc               515\n",
              "honda             449\n",
              "mazda             423\n",
              "cadillac          397\n",
              "mercedes-benz     353\n",
              "suzuki            351\n",
              "bmw               334\n",
              "infiniti          330\n",
              "audi              328\n",
              "hyundai           303\n",
              "volvo             281\n",
              "subaru            256\n",
              "acura             252\n",
              "kia               231\n",
              "mitsubishi        213\n",
              "lexus             202\n",
              "buick             196\n",
              "chrysler          187\n",
              "pontiac           186\n",
              "lincoln           164\n",
              "oldsmobile        150\n",
              "land_rover        143\n",
              "porsche           136\n",
              "saab              111\n",
              "aston_martin       93\n",
              "plymouth           82\n",
              "bentley            74\n",
              "ferrari            69\n",
              "fiat               62\n",
              "scion              60\n",
              "maserati           58\n",
              "lamborghini        52\n",
              "rolls-royce        31\n",
              "lotus              29\n",
              "tesla              18\n",
              "hummer             17\n",
              "maybach            16\n",
              "alfa_romeo          5\n",
              "mclaren             5\n",
              "spyker              3\n",
              "genesis             3\n",
              "bugatti             3\n",
              "Name: count, dtype: int64"
            ]
          },
          "metadata": {},
          "execution_count": 20
        }
      ]
    },
    {
      "cell_type": "code",
      "source": [
        "df.groupby('make')['price'].mean()"
      ],
      "metadata": {
        "colab": {
          "base_uri": "https://localhost:8080/"
        },
        "id": "Z4Ripp6XLrYr",
        "outputId": "d7f8b050-b914-4444-d3c8-b1dd57280d54"
      },
      "execution_count": null,
      "outputs": [
        {
          "output_type": "execute_result",
          "data": {
            "text/plain": [
              "make\n",
              "acura              34,887.59\n",
              "alfa_romeo         61,600.00\n",
              "aston_martin      197,910.38\n",
              "audi               53,452.11\n",
              "bentley           247,169.32\n",
              "bmw                61,546.76\n",
              "bugatti         1,757,223.67\n",
              "buick              28,206.61\n",
              "cadillac           56,231.32\n",
              "chevrolet          28,350.39\n",
              "chrysler           26,722.96\n",
              "dodge              22,390.06\n",
              "ferrari           238,218.84\n",
              "fiat               22,670.24\n",
              "ford               27,399.27\n",
              "genesis            46,616.67\n",
              "gmc                30,493.30\n",
              "honda              26,674.34\n",
              "hummer             36,464.41\n",
              "hyundai            24,597.04\n",
              "infiniti           42,394.21\n",
              "kia                25,310.17\n",
              "lamborghini       331,567.31\n",
              "land_rover         67,823.22\n",
              "lexus              47,549.07\n",
              "lincoln            42,839.83\n",
              "lotus              69,188.28\n",
              "maserati          114,207.71\n",
              "maybach           546,221.88\n",
              "mazda              20,039.38\n",
              "mclaren           239,805.00\n",
              "mercedes-benz      71,476.23\n",
              "mitsubishi         21,240.54\n",
              "nissan             28,583.43\n",
              "oldsmobile         11,542.54\n",
              "plymouth            3,122.90\n",
              "pontiac            19,321.55\n",
              "porsche           101,622.40\n",
              "rolls-royce       351,130.65\n",
              "saab               27,413.50\n",
              "scion              19,932.50\n",
              "spyker            213,323.33\n",
              "subaru             24,827.50\n",
              "suzuki             17,907.21\n",
              "tesla              85,255.56\n",
              "toyota             29,030.02\n",
              "volkswagen         28,102.38\n",
              "volvo              28,541.16\n",
              "Name: price, dtype: float64"
            ]
          },
          "metadata": {},
          "execution_count": 21
        }
      ]
    },
    {
      "cell_type": "markdown",
      "source": [
        "#compare the average price for cars before/after year2015"
      ],
      "metadata": {
        "id": "LhZTBG7MNfZZ"
      }
    },
    {
      "cell_type": "code",
      "source": [
        "df[df['year'] >= 2015]"
      ],
      "metadata": {
        "colab": {
          "base_uri": "https://localhost:8080/",
          "height": 513
        },
        "id": "ieY1KrsnNlmq",
        "outputId": "5055189a-db29-4835-d962-3e67787a5202"
      },
      "execution_count": null,
      "outputs": [
        {
          "output_type": "execute_result",
          "data": {
            "text/plain": [
              "       make       model  year                engine_fuel_type  engine_hp  \\\n",
              "32     fiat  124_spider  2017  premium_unleaded_(recommended)     160.00   \n",
              "33     fiat  124_spider  2017  premium_unleaded_(recommended)     160.00   \n",
              "34     fiat  124_spider  2017  premium_unleaded_(recommended)     160.00   \n",
              "41      bmw    2_series  2016     premium_unleaded_(required)     240.00   \n",
              "42      bmw    2_series  2016     premium_unleaded_(required)     240.00   \n",
              "...     ...         ...   ...                             ...        ...   \n",
              "11898   bmw          z4  2015     premium_unleaded_(required)     300.00   \n",
              "11899   bmw          z4  2015     premium_unleaded_(required)     335.00   \n",
              "11900   bmw          z4  2016     premium_unleaded_(required)     300.00   \n",
              "11901   bmw          z4  2016     premium_unleaded_(required)     240.00   \n",
              "11902   bmw          z4  2016     premium_unleaded_(required)     335.00   \n",
              "\n",
              "       engine_cylinders transmission_type     driven_wheels  number_of_doors  \\\n",
              "32                 4.00            manual  rear_wheel_drive             2.00   \n",
              "33                 4.00            manual  rear_wheel_drive             2.00   \n",
              "34                 4.00            manual  rear_wheel_drive             2.00   \n",
              "41                 4.00         automatic  rear_wheel_drive             2.00   \n",
              "42                 4.00         automatic  rear_wheel_drive             2.00   \n",
              "...                 ...               ...               ...              ...   \n",
              "11898              6.00  automated_manual  rear_wheel_drive             2.00   \n",
              "11899              6.00  automated_manual  rear_wheel_drive             2.00   \n",
              "11900              6.00  automated_manual  rear_wheel_drive             2.00   \n",
              "11901              4.00            manual  rear_wheel_drive             2.00   \n",
              "11902              6.00  automated_manual  rear_wheel_drive             2.00   \n",
              "\n",
              "               market_category vehicle_size vehicle_style  highway_mpg  \\\n",
              "32                 performance      compact   convertible           35   \n",
              "33                 performance      compact   convertible           35   \n",
              "34                 performance      compact   convertible           35   \n",
              "41          luxury,performance      compact         coupe           35   \n",
              "42                      luxury      compact   convertible           34   \n",
              "...                        ...          ...           ...          ...   \n",
              "11898  luxury,high-performance      compact   convertible           24   \n",
              "11899  luxury,high-performance      compact   convertible           24   \n",
              "11900  luxury,high-performance      compact   convertible           24   \n",
              "11901       luxury,performance      compact   convertible           34   \n",
              "11902  luxury,high-performance      compact   convertible           24   \n",
              "\n",
              "       city_mpg  popularity  price  log_price  \n",
              "32           26         819  27495      10.22  \n",
              "33           26         819  24995      10.13  \n",
              "34           26         819  28195      10.25  \n",
              "41           23        3916  32850      10.40  \n",
              "42           23        3916  38650      10.56  \n",
              "...         ...         ...    ...        ...  \n",
              "11898        17        3916  56950      10.95  \n",
              "11899        17        3916  65800      11.09  \n",
              "11900        17        3916  57500      10.96  \n",
              "11901        22        3916  49700      10.81  \n",
              "11902        17        3916  66350      11.10  \n",
              "\n",
              "[5995 rows x 17 columns]"
            ],
            "text/html": [
              "\n",
              "  <div id=\"df-87788a44-4805-42df-b687-1b1f6def5fc8\" class=\"colab-df-container\">\n",
              "    <div>\n",
              "<style scoped>\n",
              "    .dataframe tbody tr th:only-of-type {\n",
              "        vertical-align: middle;\n",
              "    }\n",
              "\n",
              "    .dataframe tbody tr th {\n",
              "        vertical-align: top;\n",
              "    }\n",
              "\n",
              "    .dataframe thead th {\n",
              "        text-align: right;\n",
              "    }\n",
              "</style>\n",
              "<table border=\"1\" class=\"dataframe\">\n",
              "  <thead>\n",
              "    <tr style=\"text-align: right;\">\n",
              "      <th></th>\n",
              "      <th>make</th>\n",
              "      <th>model</th>\n",
              "      <th>year</th>\n",
              "      <th>engine_fuel_type</th>\n",
              "      <th>engine_hp</th>\n",
              "      <th>engine_cylinders</th>\n",
              "      <th>transmission_type</th>\n",
              "      <th>driven_wheels</th>\n",
              "      <th>number_of_doors</th>\n",
              "      <th>market_category</th>\n",
              "      <th>vehicle_size</th>\n",
              "      <th>vehicle_style</th>\n",
              "      <th>highway_mpg</th>\n",
              "      <th>city_mpg</th>\n",
              "      <th>popularity</th>\n",
              "      <th>price</th>\n",
              "      <th>log_price</th>\n",
              "    </tr>\n",
              "  </thead>\n",
              "  <tbody>\n",
              "    <tr>\n",
              "      <th>32</th>\n",
              "      <td>fiat</td>\n",
              "      <td>124_spider</td>\n",
              "      <td>2017</td>\n",
              "      <td>premium_unleaded_(recommended)</td>\n",
              "      <td>160.00</td>\n",
              "      <td>4.00</td>\n",
              "      <td>manual</td>\n",
              "      <td>rear_wheel_drive</td>\n",
              "      <td>2.00</td>\n",
              "      <td>performance</td>\n",
              "      <td>compact</td>\n",
              "      <td>convertible</td>\n",
              "      <td>35</td>\n",
              "      <td>26</td>\n",
              "      <td>819</td>\n",
              "      <td>27495</td>\n",
              "      <td>10.22</td>\n",
              "    </tr>\n",
              "    <tr>\n",
              "      <th>33</th>\n",
              "      <td>fiat</td>\n",
              "      <td>124_spider</td>\n",
              "      <td>2017</td>\n",
              "      <td>premium_unleaded_(recommended)</td>\n",
              "      <td>160.00</td>\n",
              "      <td>4.00</td>\n",
              "      <td>manual</td>\n",
              "      <td>rear_wheel_drive</td>\n",
              "      <td>2.00</td>\n",
              "      <td>performance</td>\n",
              "      <td>compact</td>\n",
              "      <td>convertible</td>\n",
              "      <td>35</td>\n",
              "      <td>26</td>\n",
              "      <td>819</td>\n",
              "      <td>24995</td>\n",
              "      <td>10.13</td>\n",
              "    </tr>\n",
              "    <tr>\n",
              "      <th>34</th>\n",
              "      <td>fiat</td>\n",
              "      <td>124_spider</td>\n",
              "      <td>2017</td>\n",
              "      <td>premium_unleaded_(recommended)</td>\n",
              "      <td>160.00</td>\n",
              "      <td>4.00</td>\n",
              "      <td>manual</td>\n",
              "      <td>rear_wheel_drive</td>\n",
              "      <td>2.00</td>\n",
              "      <td>performance</td>\n",
              "      <td>compact</td>\n",
              "      <td>convertible</td>\n",
              "      <td>35</td>\n",
              "      <td>26</td>\n",
              "      <td>819</td>\n",
              "      <td>28195</td>\n",
              "      <td>10.25</td>\n",
              "    </tr>\n",
              "    <tr>\n",
              "      <th>41</th>\n",
              "      <td>bmw</td>\n",
              "      <td>2_series</td>\n",
              "      <td>2016</td>\n",
              "      <td>premium_unleaded_(required)</td>\n",
              "      <td>240.00</td>\n",
              "      <td>4.00</td>\n",
              "      <td>automatic</td>\n",
              "      <td>rear_wheel_drive</td>\n",
              "      <td>2.00</td>\n",
              "      <td>luxury,performance</td>\n",
              "      <td>compact</td>\n",
              "      <td>coupe</td>\n",
              "      <td>35</td>\n",
              "      <td>23</td>\n",
              "      <td>3916</td>\n",
              "      <td>32850</td>\n",
              "      <td>10.40</td>\n",
              "    </tr>\n",
              "    <tr>\n",
              "      <th>42</th>\n",
              "      <td>bmw</td>\n",
              "      <td>2_series</td>\n",
              "      <td>2016</td>\n",
              "      <td>premium_unleaded_(required)</td>\n",
              "      <td>240.00</td>\n",
              "      <td>4.00</td>\n",
              "      <td>automatic</td>\n",
              "      <td>rear_wheel_drive</td>\n",
              "      <td>2.00</td>\n",
              "      <td>luxury</td>\n",
              "      <td>compact</td>\n",
              "      <td>convertible</td>\n",
              "      <td>34</td>\n",
              "      <td>23</td>\n",
              "      <td>3916</td>\n",
              "      <td>38650</td>\n",
              "      <td>10.56</td>\n",
              "    </tr>\n",
              "    <tr>\n",
              "      <th>...</th>\n",
              "      <td>...</td>\n",
              "      <td>...</td>\n",
              "      <td>...</td>\n",
              "      <td>...</td>\n",
              "      <td>...</td>\n",
              "      <td>...</td>\n",
              "      <td>...</td>\n",
              "      <td>...</td>\n",
              "      <td>...</td>\n",
              "      <td>...</td>\n",
              "      <td>...</td>\n",
              "      <td>...</td>\n",
              "      <td>...</td>\n",
              "      <td>...</td>\n",
              "      <td>...</td>\n",
              "      <td>...</td>\n",
              "      <td>...</td>\n",
              "    </tr>\n",
              "    <tr>\n",
              "      <th>11898</th>\n",
              "      <td>bmw</td>\n",
              "      <td>z4</td>\n",
              "      <td>2015</td>\n",
              "      <td>premium_unleaded_(required)</td>\n",
              "      <td>300.00</td>\n",
              "      <td>6.00</td>\n",
              "      <td>automated_manual</td>\n",
              "      <td>rear_wheel_drive</td>\n",
              "      <td>2.00</td>\n",
              "      <td>luxury,high-performance</td>\n",
              "      <td>compact</td>\n",
              "      <td>convertible</td>\n",
              "      <td>24</td>\n",
              "      <td>17</td>\n",
              "      <td>3916</td>\n",
              "      <td>56950</td>\n",
              "      <td>10.95</td>\n",
              "    </tr>\n",
              "    <tr>\n",
              "      <th>11899</th>\n",
              "      <td>bmw</td>\n",
              "      <td>z4</td>\n",
              "      <td>2015</td>\n",
              "      <td>premium_unleaded_(required)</td>\n",
              "      <td>335.00</td>\n",
              "      <td>6.00</td>\n",
              "      <td>automated_manual</td>\n",
              "      <td>rear_wheel_drive</td>\n",
              "      <td>2.00</td>\n",
              "      <td>luxury,high-performance</td>\n",
              "      <td>compact</td>\n",
              "      <td>convertible</td>\n",
              "      <td>24</td>\n",
              "      <td>17</td>\n",
              "      <td>3916</td>\n",
              "      <td>65800</td>\n",
              "      <td>11.09</td>\n",
              "    </tr>\n",
              "    <tr>\n",
              "      <th>11900</th>\n",
              "      <td>bmw</td>\n",
              "      <td>z4</td>\n",
              "      <td>2016</td>\n",
              "      <td>premium_unleaded_(required)</td>\n",
              "      <td>300.00</td>\n",
              "      <td>6.00</td>\n",
              "      <td>automated_manual</td>\n",
              "      <td>rear_wheel_drive</td>\n",
              "      <td>2.00</td>\n",
              "      <td>luxury,high-performance</td>\n",
              "      <td>compact</td>\n",
              "      <td>convertible</td>\n",
              "      <td>24</td>\n",
              "      <td>17</td>\n",
              "      <td>3916</td>\n",
              "      <td>57500</td>\n",
              "      <td>10.96</td>\n",
              "    </tr>\n",
              "    <tr>\n",
              "      <th>11901</th>\n",
              "      <td>bmw</td>\n",
              "      <td>z4</td>\n",
              "      <td>2016</td>\n",
              "      <td>premium_unleaded_(required)</td>\n",
              "      <td>240.00</td>\n",
              "      <td>4.00</td>\n",
              "      <td>manual</td>\n",
              "      <td>rear_wheel_drive</td>\n",
              "      <td>2.00</td>\n",
              "      <td>luxury,performance</td>\n",
              "      <td>compact</td>\n",
              "      <td>convertible</td>\n",
              "      <td>34</td>\n",
              "      <td>22</td>\n",
              "      <td>3916</td>\n",
              "      <td>49700</td>\n",
              "      <td>10.81</td>\n",
              "    </tr>\n",
              "    <tr>\n",
              "      <th>11902</th>\n",
              "      <td>bmw</td>\n",
              "      <td>z4</td>\n",
              "      <td>2016</td>\n",
              "      <td>premium_unleaded_(required)</td>\n",
              "      <td>335.00</td>\n",
              "      <td>6.00</td>\n",
              "      <td>automated_manual</td>\n",
              "      <td>rear_wheel_drive</td>\n",
              "      <td>2.00</td>\n",
              "      <td>luxury,high-performance</td>\n",
              "      <td>compact</td>\n",
              "      <td>convertible</td>\n",
              "      <td>24</td>\n",
              "      <td>17</td>\n",
              "      <td>3916</td>\n",
              "      <td>66350</td>\n",
              "      <td>11.10</td>\n",
              "    </tr>\n",
              "  </tbody>\n",
              "</table>\n",
              "<p>5995 rows × 17 columns</p>\n",
              "</div>\n",
              "    <div class=\"colab-df-buttons\">\n",
              "\n",
              "  <div class=\"colab-df-container\">\n",
              "    <button class=\"colab-df-convert\" onclick=\"convertToInteractive('df-87788a44-4805-42df-b687-1b1f6def5fc8')\"\n",
              "            title=\"Convert this dataframe to an interactive table.\"\n",
              "            style=\"display:none;\">\n",
              "\n",
              "  <svg xmlns=\"http://www.w3.org/2000/svg\" height=\"24px\" viewBox=\"0 -960 960 960\">\n",
              "    <path d=\"M120-120v-720h720v720H120Zm60-500h600v-160H180v160Zm220 220h160v-160H400v160Zm0 220h160v-160H400v160ZM180-400h160v-160H180v160Zm440 0h160v-160H620v160ZM180-180h160v-160H180v160Zm440 0h160v-160H620v160Z\"/>\n",
              "  </svg>\n",
              "    </button>\n",
              "\n",
              "  <style>\n",
              "    .colab-df-container {\n",
              "      display:flex;\n",
              "      gap: 12px;\n",
              "    }\n",
              "\n",
              "    .colab-df-convert {\n",
              "      background-color: #E8F0FE;\n",
              "      border: none;\n",
              "      border-radius: 50%;\n",
              "      cursor: pointer;\n",
              "      display: none;\n",
              "      fill: #1967D2;\n",
              "      height: 32px;\n",
              "      padding: 0 0 0 0;\n",
              "      width: 32px;\n",
              "    }\n",
              "\n",
              "    .colab-df-convert:hover {\n",
              "      background-color: #E2EBFA;\n",
              "      box-shadow: 0px 1px 2px rgba(60, 64, 67, 0.3), 0px 1px 3px 1px rgba(60, 64, 67, 0.15);\n",
              "      fill: #174EA6;\n",
              "    }\n",
              "\n",
              "    .colab-df-buttons div {\n",
              "      margin-bottom: 4px;\n",
              "    }\n",
              "\n",
              "    [theme=dark] .colab-df-convert {\n",
              "      background-color: #3B4455;\n",
              "      fill: #D2E3FC;\n",
              "    }\n",
              "\n",
              "    [theme=dark] .colab-df-convert:hover {\n",
              "      background-color: #434B5C;\n",
              "      box-shadow: 0px 1px 3px 1px rgba(0, 0, 0, 0.15);\n",
              "      filter: drop-shadow(0px 1px 2px rgba(0, 0, 0, 0.3));\n",
              "      fill: #FFFFFF;\n",
              "    }\n",
              "  </style>\n",
              "\n",
              "    <script>\n",
              "      const buttonEl =\n",
              "        document.querySelector('#df-87788a44-4805-42df-b687-1b1f6def5fc8 button.colab-df-convert');\n",
              "      buttonEl.style.display =\n",
              "        google.colab.kernel.accessAllowed ? 'block' : 'none';\n",
              "\n",
              "      async function convertToInteractive(key) {\n",
              "        const element = document.querySelector('#df-87788a44-4805-42df-b687-1b1f6def5fc8');\n",
              "        const dataTable =\n",
              "          await google.colab.kernel.invokeFunction('convertToInteractive',\n",
              "                                                    [key], {});\n",
              "        if (!dataTable) return;\n",
              "\n",
              "        const docLinkHtml = 'Like what you see? Visit the ' +\n",
              "          '<a target=\"_blank\" href=https://colab.research.google.com/notebooks/data_table.ipynb>data table notebook</a>'\n",
              "          + ' to learn more about interactive tables.';\n",
              "        element.innerHTML = '';\n",
              "        dataTable['output_type'] = 'display_data';\n",
              "        await google.colab.output.renderOutput(dataTable, element);\n",
              "        const docLink = document.createElement('div');\n",
              "        docLink.innerHTML = docLinkHtml;\n",
              "        element.appendChild(docLink);\n",
              "      }\n",
              "    </script>\n",
              "  </div>\n",
              "\n",
              "\n",
              "<div id=\"df-3c4fc760-7e6d-4963-8c61-7475539f6d2c\">\n",
              "  <button class=\"colab-df-quickchart\" onclick=\"quickchart('df-3c4fc760-7e6d-4963-8c61-7475539f6d2c')\"\n",
              "            title=\"Suggest charts\"\n",
              "            style=\"display:none;\">\n",
              "\n",
              "<svg xmlns=\"http://www.w3.org/2000/svg\" height=\"24px\"viewBox=\"0 0 24 24\"\n",
              "     width=\"24px\">\n",
              "    <g>\n",
              "        <path d=\"M19 3H5c-1.1 0-2 .9-2 2v14c0 1.1.9 2 2 2h14c1.1 0 2-.9 2-2V5c0-1.1-.9-2-2-2zM9 17H7v-7h2v7zm4 0h-2V7h2v10zm4 0h-2v-4h2v4z\"/>\n",
              "    </g>\n",
              "</svg>\n",
              "  </button>\n",
              "\n",
              "<style>\n",
              "  .colab-df-quickchart {\n",
              "      --bg-color: #E8F0FE;\n",
              "      --fill-color: #1967D2;\n",
              "      --hover-bg-color: #E2EBFA;\n",
              "      --hover-fill-color: #174EA6;\n",
              "      --disabled-fill-color: #AAA;\n",
              "      --disabled-bg-color: #DDD;\n",
              "  }\n",
              "\n",
              "  [theme=dark] .colab-df-quickchart {\n",
              "      --bg-color: #3B4455;\n",
              "      --fill-color: #D2E3FC;\n",
              "      --hover-bg-color: #434B5C;\n",
              "      --hover-fill-color: #FFFFFF;\n",
              "      --disabled-bg-color: #3B4455;\n",
              "      --disabled-fill-color: #666;\n",
              "  }\n",
              "\n",
              "  .colab-df-quickchart {\n",
              "    background-color: var(--bg-color);\n",
              "    border: none;\n",
              "    border-radius: 50%;\n",
              "    cursor: pointer;\n",
              "    display: none;\n",
              "    fill: var(--fill-color);\n",
              "    height: 32px;\n",
              "    padding: 0;\n",
              "    width: 32px;\n",
              "  }\n",
              "\n",
              "  .colab-df-quickchart:hover {\n",
              "    background-color: var(--hover-bg-color);\n",
              "    box-shadow: 0 1px 2px rgba(60, 64, 67, 0.3), 0 1px 3px 1px rgba(60, 64, 67, 0.15);\n",
              "    fill: var(--button-hover-fill-color);\n",
              "  }\n",
              "\n",
              "  .colab-df-quickchart-complete:disabled,\n",
              "  .colab-df-quickchart-complete:disabled:hover {\n",
              "    background-color: var(--disabled-bg-color);\n",
              "    fill: var(--disabled-fill-color);\n",
              "    box-shadow: none;\n",
              "  }\n",
              "\n",
              "  .colab-df-spinner {\n",
              "    border: 2px solid var(--fill-color);\n",
              "    border-color: transparent;\n",
              "    border-bottom-color: var(--fill-color);\n",
              "    animation:\n",
              "      spin 1s steps(1) infinite;\n",
              "  }\n",
              "\n",
              "  @keyframes spin {\n",
              "    0% {\n",
              "      border-color: transparent;\n",
              "      border-bottom-color: var(--fill-color);\n",
              "      border-left-color: var(--fill-color);\n",
              "    }\n",
              "    20% {\n",
              "      border-color: transparent;\n",
              "      border-left-color: var(--fill-color);\n",
              "      border-top-color: var(--fill-color);\n",
              "    }\n",
              "    30% {\n",
              "      border-color: transparent;\n",
              "      border-left-color: var(--fill-color);\n",
              "      border-top-color: var(--fill-color);\n",
              "      border-right-color: var(--fill-color);\n",
              "    }\n",
              "    40% {\n",
              "      border-color: transparent;\n",
              "      border-right-color: var(--fill-color);\n",
              "      border-top-color: var(--fill-color);\n",
              "    }\n",
              "    60% {\n",
              "      border-color: transparent;\n",
              "      border-right-color: var(--fill-color);\n",
              "    }\n",
              "    80% {\n",
              "      border-color: transparent;\n",
              "      border-right-color: var(--fill-color);\n",
              "      border-bottom-color: var(--fill-color);\n",
              "    }\n",
              "    90% {\n",
              "      border-color: transparent;\n",
              "      border-bottom-color: var(--fill-color);\n",
              "    }\n",
              "  }\n",
              "</style>\n",
              "\n",
              "  <script>\n",
              "    async function quickchart(key) {\n",
              "      const quickchartButtonEl =\n",
              "        document.querySelector('#' + key + ' button');\n",
              "      quickchartButtonEl.disabled = true;  // To prevent multiple clicks.\n",
              "      quickchartButtonEl.classList.add('colab-df-spinner');\n",
              "      try {\n",
              "        const charts = await google.colab.kernel.invokeFunction(\n",
              "            'suggestCharts', [key], {});\n",
              "      } catch (error) {\n",
              "        console.error('Error during call to suggestCharts:', error);\n",
              "      }\n",
              "      quickchartButtonEl.classList.remove('colab-df-spinner');\n",
              "      quickchartButtonEl.classList.add('colab-df-quickchart-complete');\n",
              "    }\n",
              "    (() => {\n",
              "      let quickchartButtonEl =\n",
              "        document.querySelector('#df-3c4fc760-7e6d-4963-8c61-7475539f6d2c button');\n",
              "      quickchartButtonEl.style.display =\n",
              "        google.colab.kernel.accessAllowed ? 'block' : 'none';\n",
              "    })();\n",
              "  </script>\n",
              "</div>\n",
              "\n",
              "    </div>\n",
              "  </div>\n"
            ],
            "application/vnd.google.colaboratory.intrinsic+json": {
              "type": "dataframe",
              "summary": "{\n  \"name\": \"df[df['year'] >= 2015]\",\n  \"rows\": 5995,\n  \"fields\": [\n    {\n      \"column\": \"make\",\n      \"properties\": {\n        \"dtype\": \"category\",\n        \"num_unique_values\": 39,\n        \"samples\": [\n          \"maserati\",\n          \"tesla\",\n          \"mazda\"\n        ],\n        \"semantic_type\": \"\",\n        \"description\": \"\"\n      }\n    },\n    {\n      \"column\": \"model\",\n      \"properties\": {\n        \"dtype\": \"category\",\n        \"num_unique_values\": 383,\n        \"samples\": [\n          \"qx60\",\n          \"phantom_drophead_coupe\",\n          \"sls_amg_gt_final_edition\"\n        ],\n        \"semantic_type\": \"\",\n        \"description\": \"\"\n      }\n    },\n    {\n      \"column\": \"year\",\n      \"properties\": {\n        \"dtype\": \"number\",\n        \"std\": 0,\n        \"min\": 2015,\n        \"max\": 2017,\n        \"num_unique_values\": 3,\n        \"samples\": [\n          2017,\n          2016,\n          2015\n        ],\n        \"semantic_type\": \"\",\n        \"description\": \"\"\n      }\n    },\n    {\n      \"column\": \"engine_fuel_type\",\n      \"properties\": {\n        \"dtype\": \"category\",\n        \"num_unique_values\": 10,\n        \"samples\": [\n          \"flex-fuel_(premium_unleaded_required/e85)\",\n          \"premium_unleaded_(required)\",\n          \"electric\"\n        ],\n        \"semantic_type\": \"\",\n        \"description\": \"\"\n      }\n    },\n    {\n      \"column\": \"engine_hp\",\n      \"properties\": {\n        \"dtype\": \"number\",\n        \"std\": 109.11725720927893,\n        \"min\": 66.0,\n        \"max\": 750.0,\n        \"num_unique_values\": 255,\n        \"samples\": [\n          381.0,\n          295.0,\n          451.0\n        ],\n        \"semantic_type\": \"\",\n        \"description\": \"\"\n      }\n    },\n    {\n      \"column\": \"engine_cylinders\",\n      \"properties\": {\n        \"dtype\": \"number\",\n        \"std\": 1.7182613713178936,\n        \"min\": 0.0,\n        \"max\": 12.0,\n        \"num_unique_values\": 8,\n        \"samples\": [\n          6.0,\n          3.0,\n          4.0\n        ],\n        \"semantic_type\": \"\",\n        \"description\": \"\"\n      }\n    },\n    {\n      \"column\": \"transmission_type\",\n      \"properties\": {\n        \"dtype\": \"category\",\n        \"num_unique_values\": 4,\n        \"samples\": [\n          \"automatic\",\n          \"direct_drive\",\n          \"manual\"\n        ],\n        \"semantic_type\": \"\",\n        \"description\": \"\"\n      }\n    },\n    {\n      \"column\": \"driven_wheels\",\n      \"properties\": {\n        \"dtype\": \"category\",\n        \"num_unique_values\": 4,\n        \"samples\": [\n          \"all_wheel_drive\",\n          \"four_wheel_drive\",\n          \"rear_wheel_drive\"\n        ],\n        \"semantic_type\": \"\",\n        \"description\": \"\"\n      }\n    },\n    {\n      \"column\": \"number_of_doors\",\n      \"properties\": {\n        \"dtype\": \"number\",\n        \"std\": 0.7897743537268362,\n        \"min\": 2.0,\n        \"max\": 4.0,\n        \"num_unique_values\": 3,\n        \"samples\": [\n          2.0,\n          4.0,\n          3.0\n        ],\n        \"semantic_type\": \"\",\n        \"description\": \"\"\n      }\n    },\n    {\n      \"column\": \"market_category\",\n      \"properties\": {\n        \"dtype\": \"category\",\n        \"num_unique_values\": 63,\n        \"samples\": [\n          \"crossover,diesel\",\n          \"crossover,flex_fuel,luxury\",\n          \"performance\"\n        ],\n        \"semantic_type\": \"\",\n        \"description\": \"\"\n      }\n    },\n    {\n      \"column\": \"vehicle_size\",\n      \"properties\": {\n        \"dtype\": \"category\",\n        \"num_unique_values\": 3,\n        \"samples\": [\n          \"compact\",\n          \"midsize\",\n          \"large\"\n        ],\n        \"semantic_type\": \"\",\n        \"description\": \"\"\n      }\n    },\n    {\n      \"column\": \"vehicle_style\",\n      \"properties\": {\n        \"dtype\": \"category\",\n        \"num_unique_values\": 16,\n        \"samples\": [\n          \"convertible\",\n          \"coupe\",\n          \"4dr_suv\"\n        ],\n        \"semantic_type\": \"\",\n        \"description\": \"\"\n      }\n    },\n    {\n      \"column\": \"highway_mpg\",\n      \"properties\": {\n        \"dtype\": \"number\",\n        \"std\": 10,\n        \"min\": 13,\n        \"max\": 354,\n        \"num_unique_values\": 56,\n        \"samples\": [\n          35,\n          33,\n          82\n        ],\n        \"semantic_type\": \"\",\n        \"description\": \"\"\n      }\n    },\n    {\n      \"column\": \"city_mpg\",\n      \"properties\": {\n        \"dtype\": \"number\",\n        \"std\": 10,\n        \"min\": 10,\n        \"max\": 137,\n        \"num_unique_values\": 63,\n        \"samples\": [\n          38,\n          55,\n          26\n        ],\n        \"semantic_type\": \"\",\n        \"description\": \"\"\n      }\n    },\n    {\n      \"column\": \"popularity\",\n      \"properties\": {\n        \"dtype\": \"number\",\n        \"std\": 1442,\n        \"min\": 21,\n        \"max\": 5657,\n        \"num_unique_values\": 39,\n        \"samples\": [\n          238,\n          1391,\n          586\n        ],\n        \"semantic_type\": \"\",\n        \"description\": \"\"\n      }\n    },\n    {\n      \"column\": \"price\",\n      \"properties\": {\n        \"dtype\": \"number\",\n        \"std\": 40051,\n        \"min\": 11990,\n        \"max\": 548800,\n        \"num_unique_values\": 3634,\n        \"samples\": [\n          62685,\n          25545,\n          26005\n        ],\n        \"semantic_type\": \"\",\n        \"description\": \"\"\n      }\n    },\n    {\n      \"column\": \"log_price\",\n      \"properties\": {\n        \"dtype\": \"number\",\n        \"std\": 0.5232249034525714,\n        \"min\": 9.391911647379434,\n        \"max\": 13.215491177549588,\n        \"num_unique_values\": 3634,\n        \"samples\": [\n          11.045893416202652,\n          10.148236027602723,\n          10.166082559611265\n        ],\n        \"semantic_type\": \"\",\n        \"description\": \"\"\n      }\n    }\n  ]\n}"
            }
          },
          "metadata": {},
          "execution_count": 22
        }
      ]
    },
    {
      "cell_type": "code",
      "source": [
        "df.price.mean() #for overall data"
      ],
      "metadata": {
        "colab": {
          "base_uri": "https://localhost:8080/"
        },
        "id": "O17sL6ZnOK4Z",
        "outputId": "402e9cee-0f70-4408-ee1b-c12c71272384"
      },
      "execution_count": null,
      "outputs": [
        {
          "output_type": "execute_result",
          "data": {
            "text/plain": [
              "40594.737032063116"
            ]
          },
          "metadata": {},
          "execution_count": 23
        }
      ]
    },
    {
      "cell_type": "code",
      "source": [
        "df[df['year'] >= 2015]['price'].mean() #for cars after 2015"
      ],
      "metadata": {
        "colab": {
          "base_uri": "https://localhost:8080/"
        },
        "id": "TJ7-gYBGORJI",
        "outputId": "29bf3c3c-5f53-40b6-acb9-88508b9ab5ea"
      },
      "execution_count": null,
      "outputs": [
        {
          "output_type": "execute_result",
          "data": {
            "text/plain": [
              "45667.156463719766"
            ]
          },
          "metadata": {},
          "execution_count": 24
        }
      ]
    },
    {
      "cell_type": "code",
      "source": [
        "df[df['year'] < 2015]['price'].mean() #for cars before 2015"
      ],
      "metadata": {
        "colab": {
          "base_uri": "https://localhost:8080/"
        },
        "id": "xyu4WqImOt4g",
        "outputId": "f7c4a038-eb88-490f-c288-6cdbac34107c"
      },
      "execution_count": null,
      "outputs": [
        {
          "output_type": "execute_result",
          "data": {
            "text/plain": [
              "35457.18770062511"
            ]
          },
          "metadata": {},
          "execution_count": 25
        }
      ]
    },
    {
      "cell_type": "markdown",
      "source": [
        "#split the data for training , validation and testing"
      ],
      "metadata": {
        "id": "KrmWbeZfAnTh"
      }
    },
    {
      "cell_type": "code",
      "source": [
        "np.random.seed(2)  #the seed method for making the results reducable every time we run the code\n",
        "n=len(df)\n",
        "n_val = int(0.2 * n)\n",
        "n_test = int(0.2 * n)\n",
        "n_train = n - (n_val + n_test)\n",
        "\n",
        "print('no. of row for training : ' , n_train)\n",
        "print('no. of row for validation : ' , n_val)\n",
        "print('no. of row for test : ' , n_test)"
      ],
      "metadata": {
        "colab": {
          "base_uri": "https://localhost:8080/"
        },
        "id": "y7OrXkwc9u8B",
        "outputId": "ba907534-2d58-47c0-e6dd-336820c67477"
      },
      "execution_count": null,
      "outputs": [
        {
          "output_type": "stream",
          "name": "stdout",
          "text": [
            "no. of row for training :  7150\n",
            "no. of row for validation :  2382\n",
            "no. of row for test :  2382\n"
          ]
        }
      ]
    },
    {
      "cell_type": "code",
      "source": [
        "idx = np.arange(n)\n",
        "print(idx)\n",
        "np.random.shuffle(idx) #to shuffle the data indexes due to model quality for training and testing\n",
        "print(idx)"
      ],
      "metadata": {
        "colab": {
          "base_uri": "https://localhost:8080/"
        },
        "id": "TKC7vIfC_mB4",
        "outputId": "aaac8643-3522-4a1e-86e9-5e0783c265dd"
      },
      "execution_count": null,
      "outputs": [
        {
          "output_type": "stream",
          "name": "stdout",
          "text": [
            "[    0     1     2 ... 11911 11912 11913]\n",
            "[2735 6720 5878 ... 6637 2575 7336]\n"
          ]
        }
      ]
    },
    {
      "cell_type": "code",
      "source": [
        "df_shuffled = df.iloc[idx] #assign the shuffled indexes to the data\n",
        "print(df.index)\n",
        "print(df_shuffled.index)"
      ],
      "metadata": {
        "colab": {
          "base_uri": "https://localhost:8080/"
        },
        "id": "P7o4BTqaAB2Q",
        "outputId": "e363ff31-4e6d-4a8b-ce1a-c500995e0cf6"
      },
      "execution_count": null,
      "outputs": [
        {
          "output_type": "stream",
          "name": "stdout",
          "text": [
            "RangeIndex(start=0, stop=11914, step=1)\n",
            "Index([ 2735,  6720,  5878, 11190,  4554,  8001,  2882,   649,   616,  4459,\n",
            "       ...\n",
            "        6751,   433,  4770, 11527,  1099,  2514, 11798,  6637,  2575,  7336],\n",
            "      dtype='int64', length=11914)\n"
          ]
        }
      ]
    },
    {
      "cell_type": "code",
      "source": [
        "df_train = df_shuffled.iloc[:n_train].copy()\n",
        "df_val = df_shuffled.iloc[n_train:n_train+n_val].copy()\n",
        "df_test = df_shuffled.iloc[n_train+n_val:].copy()"
      ],
      "metadata": {
        "id": "HPA8XK5TC1GD"
      },
      "execution_count": null,
      "outputs": []
    },
    {
      "cell_type": "code",
      "source": [
        "df_train.shape"
      ],
      "metadata": {
        "colab": {
          "base_uri": "https://localhost:8080/"
        },
        "id": "9JXMUvRkEBxe",
        "outputId": "42686c28-13cc-4df6-978d-e31cf1671688"
      },
      "execution_count": null,
      "outputs": [
        {
          "output_type": "execute_result",
          "data": {
            "text/plain": [
              "(7150, 17)"
            ]
          },
          "metadata": {},
          "execution_count": 30
        }
      ]
    },
    {
      "cell_type": "code",
      "source": [
        "df_val.shape"
      ],
      "metadata": {
        "colab": {
          "base_uri": "https://localhost:8080/"
        },
        "id": "Xn-yt2ZkEEe2",
        "outputId": "bb563917-b905-455a-a2d1-956a9a8be481"
      },
      "execution_count": null,
      "outputs": [
        {
          "output_type": "execute_result",
          "data": {
            "text/plain": [
              "(2382, 17)"
            ]
          },
          "metadata": {},
          "execution_count": 31
        }
      ]
    },
    {
      "cell_type": "code",
      "source": [
        "df_test.shape"
      ],
      "metadata": {
        "colab": {
          "base_uri": "https://localhost:8080/"
        },
        "id": "K04cJ7eKEGnW",
        "outputId": "92eaff46-ccae-4a7e-c7a7-0d2da4ad7b05"
      },
      "execution_count": null,
      "outputs": [
        {
          "output_type": "execute_result",
          "data": {
            "text/plain": [
              "(2382, 17)"
            ]
          },
          "metadata": {},
          "execution_count": 32
        }
      ]
    },
    {
      "cell_type": "code",
      "source": [
        "y_train = df_train.log_price.values #the .values make the return as numpy array so we can get it into the model\n",
        "y_val = df_val.log_price.values\n",
        "y_test = df_test.log_price.values"
      ],
      "metadata": {
        "id": "TMuI8ib8EKv6"
      },
      "execution_count": null,
      "outputs": []
    },
    {
      "cell_type": "markdown",
      "source": [
        "#baseline solution"
      ],
      "metadata": {
        "id": "CJ13RagQuD6c"
      }
    },
    {
      "cell_type": "code",
      "source": [
        "base = ['engine_hp', 'engine_cylinders', 'highway_mpg', 'city_mpg', 'popularity'] #think about numerical only"
      ],
      "metadata": {
        "id": "zYXtC8fJuF-C"
      },
      "execution_count": null,
      "outputs": []
    },
    {
      "cell_type": "code",
      "source": [
        "df[base]"
      ],
      "metadata": {
        "colab": {
          "base_uri": "https://localhost:8080/",
          "height": 423
        },
        "id": "JyOcN-oIudGs",
        "outputId": "961fa762-40fc-4dbe-b5da-817a550a0151"
      },
      "execution_count": null,
      "outputs": [
        {
          "output_type": "execute_result",
          "data": {
            "text/plain": [
              "       engine_hp  engine_cylinders  highway_mpg  city_mpg  popularity\n",
              "0         335.00              6.00           26        19        3916\n",
              "1         300.00              6.00           28        19        3916\n",
              "2         300.00              6.00           28        20        3916\n",
              "3         230.00              6.00           28        18        3916\n",
              "4         230.00              6.00           28        18        3916\n",
              "...          ...               ...          ...       ...         ...\n",
              "11909     300.00              6.00           23        16         204\n",
              "11910     300.00              6.00           23        16         204\n",
              "11911     300.00              6.00           23        16         204\n",
              "11912     300.00              6.00           23        16         204\n",
              "11913     221.00              6.00           26        17          61\n",
              "\n",
              "[11914 rows x 5 columns]"
            ],
            "text/html": [
              "\n",
              "  <div id=\"df-cd5be663-1fee-45d5-9ed5-e438184e498a\" class=\"colab-df-container\">\n",
              "    <div>\n",
              "<style scoped>\n",
              "    .dataframe tbody tr th:only-of-type {\n",
              "        vertical-align: middle;\n",
              "    }\n",
              "\n",
              "    .dataframe tbody tr th {\n",
              "        vertical-align: top;\n",
              "    }\n",
              "\n",
              "    .dataframe thead th {\n",
              "        text-align: right;\n",
              "    }\n",
              "</style>\n",
              "<table border=\"1\" class=\"dataframe\">\n",
              "  <thead>\n",
              "    <tr style=\"text-align: right;\">\n",
              "      <th></th>\n",
              "      <th>engine_hp</th>\n",
              "      <th>engine_cylinders</th>\n",
              "      <th>highway_mpg</th>\n",
              "      <th>city_mpg</th>\n",
              "      <th>popularity</th>\n",
              "    </tr>\n",
              "  </thead>\n",
              "  <tbody>\n",
              "    <tr>\n",
              "      <th>0</th>\n",
              "      <td>335.00</td>\n",
              "      <td>6.00</td>\n",
              "      <td>26</td>\n",
              "      <td>19</td>\n",
              "      <td>3916</td>\n",
              "    </tr>\n",
              "    <tr>\n",
              "      <th>1</th>\n",
              "      <td>300.00</td>\n",
              "      <td>6.00</td>\n",
              "      <td>28</td>\n",
              "      <td>19</td>\n",
              "      <td>3916</td>\n",
              "    </tr>\n",
              "    <tr>\n",
              "      <th>2</th>\n",
              "      <td>300.00</td>\n",
              "      <td>6.00</td>\n",
              "      <td>28</td>\n",
              "      <td>20</td>\n",
              "      <td>3916</td>\n",
              "    </tr>\n",
              "    <tr>\n",
              "      <th>3</th>\n",
              "      <td>230.00</td>\n",
              "      <td>6.00</td>\n",
              "      <td>28</td>\n",
              "      <td>18</td>\n",
              "      <td>3916</td>\n",
              "    </tr>\n",
              "    <tr>\n",
              "      <th>4</th>\n",
              "      <td>230.00</td>\n",
              "      <td>6.00</td>\n",
              "      <td>28</td>\n",
              "      <td>18</td>\n",
              "      <td>3916</td>\n",
              "    </tr>\n",
              "    <tr>\n",
              "      <th>...</th>\n",
              "      <td>...</td>\n",
              "      <td>...</td>\n",
              "      <td>...</td>\n",
              "      <td>...</td>\n",
              "      <td>...</td>\n",
              "    </tr>\n",
              "    <tr>\n",
              "      <th>11909</th>\n",
              "      <td>300.00</td>\n",
              "      <td>6.00</td>\n",
              "      <td>23</td>\n",
              "      <td>16</td>\n",
              "      <td>204</td>\n",
              "    </tr>\n",
              "    <tr>\n",
              "      <th>11910</th>\n",
              "      <td>300.00</td>\n",
              "      <td>6.00</td>\n",
              "      <td>23</td>\n",
              "      <td>16</td>\n",
              "      <td>204</td>\n",
              "    </tr>\n",
              "    <tr>\n",
              "      <th>11911</th>\n",
              "      <td>300.00</td>\n",
              "      <td>6.00</td>\n",
              "      <td>23</td>\n",
              "      <td>16</td>\n",
              "      <td>204</td>\n",
              "    </tr>\n",
              "    <tr>\n",
              "      <th>11912</th>\n",
              "      <td>300.00</td>\n",
              "      <td>6.00</td>\n",
              "      <td>23</td>\n",
              "      <td>16</td>\n",
              "      <td>204</td>\n",
              "    </tr>\n",
              "    <tr>\n",
              "      <th>11913</th>\n",
              "      <td>221.00</td>\n",
              "      <td>6.00</td>\n",
              "      <td>26</td>\n",
              "      <td>17</td>\n",
              "      <td>61</td>\n",
              "    </tr>\n",
              "  </tbody>\n",
              "</table>\n",
              "<p>11914 rows × 5 columns</p>\n",
              "</div>\n",
              "    <div class=\"colab-df-buttons\">\n",
              "\n",
              "  <div class=\"colab-df-container\">\n",
              "    <button class=\"colab-df-convert\" onclick=\"convertToInteractive('df-cd5be663-1fee-45d5-9ed5-e438184e498a')\"\n",
              "            title=\"Convert this dataframe to an interactive table.\"\n",
              "            style=\"display:none;\">\n",
              "\n",
              "  <svg xmlns=\"http://www.w3.org/2000/svg\" height=\"24px\" viewBox=\"0 -960 960 960\">\n",
              "    <path d=\"M120-120v-720h720v720H120Zm60-500h600v-160H180v160Zm220 220h160v-160H400v160Zm0 220h160v-160H400v160ZM180-400h160v-160H180v160Zm440 0h160v-160H620v160ZM180-180h160v-160H180v160Zm440 0h160v-160H620v160Z\"/>\n",
              "  </svg>\n",
              "    </button>\n",
              "\n",
              "  <style>\n",
              "    .colab-df-container {\n",
              "      display:flex;\n",
              "      gap: 12px;\n",
              "    }\n",
              "\n",
              "    .colab-df-convert {\n",
              "      background-color: #E8F0FE;\n",
              "      border: none;\n",
              "      border-radius: 50%;\n",
              "      cursor: pointer;\n",
              "      display: none;\n",
              "      fill: #1967D2;\n",
              "      height: 32px;\n",
              "      padding: 0 0 0 0;\n",
              "      width: 32px;\n",
              "    }\n",
              "\n",
              "    .colab-df-convert:hover {\n",
              "      background-color: #E2EBFA;\n",
              "      box-shadow: 0px 1px 2px rgba(60, 64, 67, 0.3), 0px 1px 3px 1px rgba(60, 64, 67, 0.15);\n",
              "      fill: #174EA6;\n",
              "    }\n",
              "\n",
              "    .colab-df-buttons div {\n",
              "      margin-bottom: 4px;\n",
              "    }\n",
              "\n",
              "    [theme=dark] .colab-df-convert {\n",
              "      background-color: #3B4455;\n",
              "      fill: #D2E3FC;\n",
              "    }\n",
              "\n",
              "    [theme=dark] .colab-df-convert:hover {\n",
              "      background-color: #434B5C;\n",
              "      box-shadow: 0px 1px 3px 1px rgba(0, 0, 0, 0.15);\n",
              "      filter: drop-shadow(0px 1px 2px rgba(0, 0, 0, 0.3));\n",
              "      fill: #FFFFFF;\n",
              "    }\n",
              "  </style>\n",
              "\n",
              "    <script>\n",
              "      const buttonEl =\n",
              "        document.querySelector('#df-cd5be663-1fee-45d5-9ed5-e438184e498a button.colab-df-convert');\n",
              "      buttonEl.style.display =\n",
              "        google.colab.kernel.accessAllowed ? 'block' : 'none';\n",
              "\n",
              "      async function convertToInteractive(key) {\n",
              "        const element = document.querySelector('#df-cd5be663-1fee-45d5-9ed5-e438184e498a');\n",
              "        const dataTable =\n",
              "          await google.colab.kernel.invokeFunction('convertToInteractive',\n",
              "                                                    [key], {});\n",
              "        if (!dataTable) return;\n",
              "\n",
              "        const docLinkHtml = 'Like what you see? Visit the ' +\n",
              "          '<a target=\"_blank\" href=https://colab.research.google.com/notebooks/data_table.ipynb>data table notebook</a>'\n",
              "          + ' to learn more about interactive tables.';\n",
              "        element.innerHTML = '';\n",
              "        dataTable['output_type'] = 'display_data';\n",
              "        await google.colab.output.renderOutput(dataTable, element);\n",
              "        const docLink = document.createElement('div');\n",
              "        docLink.innerHTML = docLinkHtml;\n",
              "        element.appendChild(docLink);\n",
              "      }\n",
              "    </script>\n",
              "  </div>\n",
              "\n",
              "\n",
              "<div id=\"df-4b7a0d25-665f-4c1e-9ca4-33d45cdacd5c\">\n",
              "  <button class=\"colab-df-quickchart\" onclick=\"quickchart('df-4b7a0d25-665f-4c1e-9ca4-33d45cdacd5c')\"\n",
              "            title=\"Suggest charts\"\n",
              "            style=\"display:none;\">\n",
              "\n",
              "<svg xmlns=\"http://www.w3.org/2000/svg\" height=\"24px\"viewBox=\"0 0 24 24\"\n",
              "     width=\"24px\">\n",
              "    <g>\n",
              "        <path d=\"M19 3H5c-1.1 0-2 .9-2 2v14c0 1.1.9 2 2 2h14c1.1 0 2-.9 2-2V5c0-1.1-.9-2-2-2zM9 17H7v-7h2v7zm4 0h-2V7h2v10zm4 0h-2v-4h2v4z\"/>\n",
              "    </g>\n",
              "</svg>\n",
              "  </button>\n",
              "\n",
              "<style>\n",
              "  .colab-df-quickchart {\n",
              "      --bg-color: #E8F0FE;\n",
              "      --fill-color: #1967D2;\n",
              "      --hover-bg-color: #E2EBFA;\n",
              "      --hover-fill-color: #174EA6;\n",
              "      --disabled-fill-color: #AAA;\n",
              "      --disabled-bg-color: #DDD;\n",
              "  }\n",
              "\n",
              "  [theme=dark] .colab-df-quickchart {\n",
              "      --bg-color: #3B4455;\n",
              "      --fill-color: #D2E3FC;\n",
              "      --hover-bg-color: #434B5C;\n",
              "      --hover-fill-color: #FFFFFF;\n",
              "      --disabled-bg-color: #3B4455;\n",
              "      --disabled-fill-color: #666;\n",
              "  }\n",
              "\n",
              "  .colab-df-quickchart {\n",
              "    background-color: var(--bg-color);\n",
              "    border: none;\n",
              "    border-radius: 50%;\n",
              "    cursor: pointer;\n",
              "    display: none;\n",
              "    fill: var(--fill-color);\n",
              "    height: 32px;\n",
              "    padding: 0;\n",
              "    width: 32px;\n",
              "  }\n",
              "\n",
              "  .colab-df-quickchart:hover {\n",
              "    background-color: var(--hover-bg-color);\n",
              "    box-shadow: 0 1px 2px rgba(60, 64, 67, 0.3), 0 1px 3px 1px rgba(60, 64, 67, 0.15);\n",
              "    fill: var(--button-hover-fill-color);\n",
              "  }\n",
              "\n",
              "  .colab-df-quickchart-complete:disabled,\n",
              "  .colab-df-quickchart-complete:disabled:hover {\n",
              "    background-color: var(--disabled-bg-color);\n",
              "    fill: var(--disabled-fill-color);\n",
              "    box-shadow: none;\n",
              "  }\n",
              "\n",
              "  .colab-df-spinner {\n",
              "    border: 2px solid var(--fill-color);\n",
              "    border-color: transparent;\n",
              "    border-bottom-color: var(--fill-color);\n",
              "    animation:\n",
              "      spin 1s steps(1) infinite;\n",
              "  }\n",
              "\n",
              "  @keyframes spin {\n",
              "    0% {\n",
              "      border-color: transparent;\n",
              "      border-bottom-color: var(--fill-color);\n",
              "      border-left-color: var(--fill-color);\n",
              "    }\n",
              "    20% {\n",
              "      border-color: transparent;\n",
              "      border-left-color: var(--fill-color);\n",
              "      border-top-color: var(--fill-color);\n",
              "    }\n",
              "    30% {\n",
              "      border-color: transparent;\n",
              "      border-left-color: var(--fill-color);\n",
              "      border-top-color: var(--fill-color);\n",
              "      border-right-color: var(--fill-color);\n",
              "    }\n",
              "    40% {\n",
              "      border-color: transparent;\n",
              "      border-right-color: var(--fill-color);\n",
              "      border-top-color: var(--fill-color);\n",
              "    }\n",
              "    60% {\n",
              "      border-color: transparent;\n",
              "      border-right-color: var(--fill-color);\n",
              "    }\n",
              "    80% {\n",
              "      border-color: transparent;\n",
              "      border-right-color: var(--fill-color);\n",
              "      border-bottom-color: var(--fill-color);\n",
              "    }\n",
              "    90% {\n",
              "      border-color: transparent;\n",
              "      border-bottom-color: var(--fill-color);\n",
              "    }\n",
              "  }\n",
              "</style>\n",
              "\n",
              "  <script>\n",
              "    async function quickchart(key) {\n",
              "      const quickchartButtonEl =\n",
              "        document.querySelector('#' + key + ' button');\n",
              "      quickchartButtonEl.disabled = true;  // To prevent multiple clicks.\n",
              "      quickchartButtonEl.classList.add('colab-df-spinner');\n",
              "      try {\n",
              "        const charts = await google.colab.kernel.invokeFunction(\n",
              "            'suggestCharts', [key], {});\n",
              "      } catch (error) {\n",
              "        console.error('Error during call to suggestCharts:', error);\n",
              "      }\n",
              "      quickchartButtonEl.classList.remove('colab-df-spinner');\n",
              "      quickchartButtonEl.classList.add('colab-df-quickchart-complete');\n",
              "    }\n",
              "    (() => {\n",
              "      let quickchartButtonEl =\n",
              "        document.querySelector('#df-4b7a0d25-665f-4c1e-9ca4-33d45cdacd5c button');\n",
              "      quickchartButtonEl.style.display =\n",
              "        google.colab.kernel.accessAllowed ? 'block' : 'none';\n",
              "    })();\n",
              "  </script>\n",
              "</div>\n",
              "\n",
              "    </div>\n",
              "  </div>\n"
            ],
            "application/vnd.google.colaboratory.intrinsic+json": {
              "type": "dataframe",
              "summary": "{\n  \"name\": \"df[base]\",\n  \"rows\": 11914,\n  \"fields\": [\n    {\n      \"column\": \"engine_hp\",\n      \"properties\": {\n        \"dtype\": \"number\",\n        \"std\": 109.19187025917206,\n        \"min\": 55.0,\n        \"max\": 1001.0,\n        \"num_unique_values\": 356,\n        \"samples\": [\n          145.0,\n          201.0,\n          219.0\n        ],\n        \"semantic_type\": \"\",\n        \"description\": \"\"\n      }\n    },\n    {\n      \"column\": \"engine_cylinders\",\n      \"properties\": {\n        \"dtype\": \"number\",\n        \"std\": 1.780559348246223,\n        \"min\": 0.0,\n        \"max\": 16.0,\n        \"num_unique_values\": 9,\n        \"samples\": [\n          3.0,\n          4.0,\n          0.0\n        ],\n        \"semantic_type\": \"\",\n        \"description\": \"\"\n      }\n    },\n    {\n      \"column\": \"highway_mpg\",\n      \"properties\": {\n        \"dtype\": \"number\",\n        \"std\": 8,\n        \"min\": 12,\n        \"max\": 354,\n        \"num_unique_values\": 59,\n        \"samples\": [\n          26,\n          20,\n          354\n        ],\n        \"semantic_type\": \"\",\n        \"description\": \"\"\n      }\n    },\n    {\n      \"column\": \"city_mpg\",\n      \"properties\": {\n        \"dtype\": \"number\",\n        \"std\": 8,\n        \"min\": 7,\n        \"max\": 137,\n        \"num_unique_values\": 69,\n        \"samples\": [\n          9,\n          19,\n          41\n        ],\n        \"semantic_type\": \"\",\n        \"description\": \"\"\n      }\n    },\n    {\n      \"column\": \"popularity\",\n      \"properties\": {\n        \"dtype\": \"number\",\n        \"std\": 1441,\n        \"min\": 2,\n        \"max\": 5657,\n        \"num_unique_values\": 48,\n        \"samples\": [\n          1385,\n          258,\n          520\n        ],\n        \"semantic_type\": \"\",\n        \"description\": \"\"\n      }\n    }\n  ]\n}"
            }
          },
          "metadata": {},
          "execution_count": 35
        }
      ]
    },
    {
      "cell_type": "code",
      "source": [
        "df[base].isnull().sum()"
      ],
      "metadata": {
        "colab": {
          "base_uri": "https://localhost:8080/"
        },
        "id": "gikLXNNkusHl",
        "outputId": "c31117b9-6f40-426c-fdda-1b55dde1037c"
      },
      "execution_count": null,
      "outputs": [
        {
          "output_type": "execute_result",
          "data": {
            "text/plain": [
              "engine_hp           69\n",
              "engine_cylinders    30\n",
              "highway_mpg          0\n",
              "city_mpg             0\n",
              "popularity           0\n",
              "dtype: int64"
            ]
          },
          "metadata": {},
          "execution_count": 36
        }
      ]
    },
    {
      "cell_type": "markdown",
      "source": [
        "#handling missing values"
      ],
      "metadata": {
        "id": "_DP1ZKlwu34I"
      }
    },
    {
      "cell_type": "code",
      "source": [
        "def prepare_X(df):\n",
        "  df_num = df[base]\n",
        "  df_num = df_num.fillna(df_num.mean())\n",
        "  X = df_num.values\n",
        "  return X"
      ],
      "metadata": {
        "id": "K8s_RxYLvLqc"
      },
      "execution_count": null,
      "outputs": []
    },
    {
      "cell_type": "markdown",
      "source": [
        "#linear regression"
      ],
      "metadata": {
        "id": "6cCT_pAQwV73"
      }
    },
    {
      "cell_type": "code",
      "source": [
        "# Exclude non-numeric columns from correlation calculation\n",
        "numeric_df_train = df_train.select_dtypes(include=['float64', 'int64'])\n",
        "plt.figure(figsize=(15,8))\n",
        "sns.heatmap(numeric_df_train.corr(), annot=True)  #corrolation heat map to know if their is linear corrolation between columns\n"
      ],
      "metadata": {
        "id": "MfY0UnJQwYTE",
        "colab": {
          "base_uri": "https://localhost:8080/",
          "height": 821
        },
        "outputId": "bea698b8-9ee9-4e09-c7e4-a02ca6051a0a"
      },
      "execution_count": null,
      "outputs": [
        {
          "output_type": "execute_result",
          "data": {
            "text/plain": [
              "<Axes: >"
            ]
          },
          "metadata": {},
          "execution_count": 38
        },
        {
          "output_type": "display_data",
          "data": {
            "text/plain": [
              "<Figure size 1500x800 with 2 Axes>"
            ],
            "image/png": "[encoded data removed]"
          },
          "metadata": {}
        }
      ]
    },
    {
      "cell_type": "code",
      "source": [
        "def linear_regression(xi):\n",
        "  n=len(xi)         #num of features used\n",
        "  pred = w0         #initial prediction\n",
        "\n",
        "  for j in range(n):\n",
        "    pred += w[j] * xi[j]        #formula = w0 + sigma[0:n-1] * {w[j] * x[i]}\n",
        "\n",
        "  return pred"
      ],
      "metadata": {
        "id": "mBLSQxTQDAkB"
      },
      "execution_count": null,
      "outputs": []
    },
    {
      "cell_type": "markdown",
      "source": [
        "\n",
        "\n",
        "> using normal equation\n",
        "\n"
      ],
      "metadata": {
        "id": "o6l6o7s-EQEP"
      }
    },
    {
      "cell_type": "code",
      "source": [
        "def train_linear_regression(X, y):\n",
        "  ones = np.ones(X.shape[0])\n",
        "  X = np.column_stack([ones, X])\n",
        "\n",
        "  XTX = X.T.dot(X)\n",
        "  XTX_inv = np.linalg.inv(XTX)\n",
        "  w = XTX_inv.dot(X.T).dot(y)\n",
        "  return w[0], w[1:]"
      ],
      "metadata": {
        "id": "UjJWfjSjUgI3"
      },
      "execution_count": null,
      "outputs": []
    },
    {
      "cell_type": "code",
      "source": [
        "X_train = prepare_X(df_train)\n",
        "w_0, w = train_linear_regression(X_train, y_train)\n",
        "y_pred = w_0 + X_train.dot(w)"
      ],
      "metadata": {
        "id": "0Vgf30MNXgTh"
      },
      "execution_count": null,
      "outputs": []
    },
    {
      "cell_type": "code",
      "source": [
        "sns.histplot(y_train, label='target')\n",
        "sns.histplot(y_pred, label='prediction' ,color = 'red')\n",
        "\n",
        "plt.legend()\n",
        "\n",
        "plt.ylabel('frequency')\n",
        "plt.xlabel('log(price+1)')\n",
        "plt.title('distribution of prices')\n",
        "\n",
        "plt.show()"
      ],
      "metadata": {
        "colab": {
          "base_uri": "https://localhost:8080/",
          "height": 480
        },
        "id": "mXKWg69nY_M0",
        "outputId": "70f38cb1-de1e-45a9-a07a-75e91042ef42"
      },
      "execution_count": null,
      "outputs": [
        {
          "output_type": "display_data",
          "data": {
            "text/plain": [
              "<Figure size 640x480 with 1 Axes>"
            ],
            "image/png": "[encoded data removed]"
          },
          "metadata": {}
        }
      ]
    },
    {
      "cell_type": "markdown",
      "source": [
        "\n",
        "\n",
        "\n",
        "\n",
        "> use root mean square error to show how much am i near or far from the model\n",
        "\n",
        "\n"
      ],
      "metadata": {
        "id": "EzOKjDKBaCW6"
      }
    },
    {
      "cell_type": "code",
      "source": [
        "def rmse(y , y_pred):\n",
        "  error = y_pred - y\n",
        "  mse = (error ** 2).mean()\n",
        "  return np.sqrt(mse)"
      ],
      "metadata": {
        "id": "Z9GhP3_yaBrT"
      },
      "execution_count": null,
      "outputs": []
    },
    {
      "cell_type": "code",
      "source": [
        "rmse(y_train , y_pred)"
      ],
      "metadata": {
        "colab": {
          "base_uri": "https://localhost:8080/"
        },
        "id": "j3pXTk_ZbiP4",
        "outputId": "c253fd46-dbb5-4d8a-db5e-052d07bc56b2"
      },
      "execution_count": null,
      "outputs": [
        {
          "output_type": "execute_result",
          "data": {
            "text/plain": [
              "0.7574439819012008"
            ]
          },
          "metadata": {},
          "execution_count": 44
        }
      ]
    },
    {
      "cell_type": "code",
      "source": [
        "X_val = prepare_X(df_val)\n",
        "y_pred = w_0 + X_val.dot(w)"
      ],
      "metadata": {
        "id": "Vo1CfUbDcIQC"
      },
      "execution_count": null,
      "outputs": []
    },
    {
      "cell_type": "code",
      "source": [
        "rmse(y_val , y_pred)"
      ],
      "metadata": {
        "colab": {
          "base_uri": "https://localhost:8080/"
        },
        "id": "G1SJLSEccWNn",
        "outputId": "d76ba541-89dd-4ede-d88f-909bf5de386a"
      },
      "execution_count": null,
      "outputs": [
        {
          "output_type": "execute_result",
          "data": {
            "text/plain": [
              "0.7502502346381938"
            ]
          },
          "metadata": {},
          "execution_count": 46
        }
      ]
    },
    {
      "cell_type": "markdown",
      "source": [
        "#simple feature engineering\n",
        "\n",
        "\n",
        "> using one hot encoding\n",
        "\n"
      ],
      "metadata": {
        "id": "38aDNzw960IG"
      }
    },
    {
      "cell_type": "code",
      "source": [
        "def prepare_X(df):\n",
        "  df = df.copy()\n",
        "  features = base.copy()\n",
        "\n",
        "  df['age'] = 2017 - df.year   #because the data set was creatwd in 2017 (which we can verify by chicking df_train.year.max)\n",
        "  features.append('age')\n",
        "\n",
        "  df_num = df[features]\n",
        "  df_num = df_num.fillna(df_num.mean())\n",
        "  X = df_num.values\n",
        "  return X\n"
      ],
      "metadata": {
        "id": "TXsWfmVI62nK"
      },
      "execution_count": null,
      "outputs": []
    },
    {
      "cell_type": "code",
      "source": [
        "X_train = prepare_X(df_train)\n",
        "w_0, w = train_linear_regression(X_train, y_train)\n",
        "y_pred = w_0 + X_train.dot(w)\n",
        "print('Train RMSE : ',rmse(y_train , y_pred))\n",
        "\n",
        "X_val = prepare_X(df_val)\n",
        "y_pred = w_0 + X_val.dot(w)\n",
        "print('Validation RMSE : ',rmse(y_val , y_pred))"
      ],
      "metadata": {
        "colab": {
          "base_uri": "https://localhost:8080/"
        },
        "id": "R6rHu5O38Vvd",
        "outputId": "099c091a-51f7-469f-8342-87a13bd34b05"
      },
      "execution_count": null,
      "outputs": [
        {
          "output_type": "stream",
          "name": "stdout",
          "text": [
            "Train RMSE :  0.5117454503079418\n",
            "Validation RMSE :  0.5070033906013028\n"
          ]
        }
      ]
    },
    {
      "cell_type": "markdown",
      "source": [
        "#handling categorical data"
      ],
      "metadata": {
        "id": "D7IOmC_g-onr"
      }
    },
    {
      "cell_type": "code",
      "source": [
        "df.number_of_doors.value_counts()"
      ],
      "metadata": {
        "colab": {
          "base_uri": "https://localhost:8080/"
        },
        "id": "NCeFPt3s-r9Z",
        "outputId": "66fc5c25-9d3b-4e17-9fd2-2be74d295e7d"
      },
      "execution_count": null,
      "outputs": [
        {
          "output_type": "execute_result",
          "data": {
            "text/plain": [
              "number_of_doors\n",
              "4.00    8353\n",
              "2.00    3160\n",
              "3.00     395\n",
              "Name: count, dtype: int64"
            ]
          },
          "metadata": {},
          "execution_count": 49
        }
      ]
    },
    {
      "cell_type": "code",
      "source": [
        "df.make.value_counts().head(10)"
      ],
      "metadata": {
        "colab": {
          "base_uri": "https://localhost:8080/"
        },
        "id": "9IJwz-QpDY-v",
        "outputId": "996bf252-43c3-4335-8749-81eeb39731da"
      },
      "execution_count": null,
      "outputs": [
        {
          "output_type": "execute_result",
          "data": {
            "text/plain": [
              "make\n",
              "chevrolet     1123\n",
              "ford           881\n",
              "volkswagen     809\n",
              "toyota         746\n",
              "dodge          626\n",
              "nissan         558\n",
              "gmc            515\n",
              "honda          449\n",
              "mazda          423\n",
              "cadillac       397\n",
              "Name: count, dtype: int64"
            ]
          },
          "metadata": {},
          "execution_count": 50
        }
      ]
    },
    {
      "cell_type": "code",
      "source": [
        "def prepare_X(df):\n",
        "  df = df.copy()\n",
        "  features = base.copy()\n",
        "\n",
        "  df['age'] = 2017 - df.year\n",
        "  features.append('age')\n",
        "\n",
        "  for v in [2, 3, 4]:\n",
        "    feature = 'num_doors_%s' % v\n",
        "    df[feature] = (df['number_of_doors'] == v).astype(int)\n",
        "    features.append(feature)\n",
        "\n",
        "  for v in ['chevrolet', 'ford', 'volkswagen', 'toyota', 'dodge']:\n",
        "    feature = 'is_make_%s' % v\n",
        "    df[feature] = (df['make'] == v).astype(int)\n",
        "    features.append(feature)\n",
        "\n",
        "  df_num = df[features]\n",
        "  df_num = df_num.fillna(df_num.mean())\n",
        "  X= df_num.values\n",
        "  return X"
      ],
      "metadata": {
        "id": "vjedbacXDeX6"
      },
      "execution_count": null,
      "outputs": []
    },
    {
      "cell_type": "code",
      "source": [
        "X_train = prepare_X(df_train)\n",
        "w_0, w = train_linear_regression(X_train, y_train)\n",
        "\n",
        "y_pred = w_0 + X_train.dot(w)\n",
        "print('Train RMSE : ',rmse(y_train , y_pred))\n",
        "\n",
        "X_val = prepare_X(df_val)\n",
        "y_pred = w_0 + X_val.dot(w)\n",
        "print('Validation RMSE : ',rmse(y_val , y_pred))"
      ],
      "metadata": {
        "colab": {
          "base_uri": "https://localhost:8080/"
        },
        "id": "1anER8s4Fufl",
        "outputId": "7f2fae83-3f15-46da-96d5-bbedad248f5d"
      },
      "execution_count": null,
      "outputs": [
        {
          "output_type": "stream",
          "name": "stdout",
          "text": [
            "Train RMSE :  0.5010764007201611\n",
            "Validation RMSE :  0.4982643557277196\n"
          ]
        }
      ]
    },
    {
      "cell_type": "code",
      "source": [
        "df['engine_fuel_type'].value_counts()"
      ],
      "metadata": {
        "colab": {
          "base_uri": "https://localhost:8080/"
        },
        "id": "MgqdZWWVG7_z",
        "outputId": "59ed334d-03f6-4f85-9e22-5ea17d8c38e5"
      },
      "execution_count": null,
      "outputs": [
        {
          "output_type": "execute_result",
          "data": {
            "text/plain": [
              "engine_fuel_type\n",
              "regular_unleaded                                7172\n",
              "premium_unleaded_(required)                     2009\n",
              "premium_unleaded_(recommended)                  1523\n",
              "flex-fuel_(unleaded/e85)                         899\n",
              "diesel                                           154\n",
              "electric                                          66\n",
              "flex-fuel_(premium_unleaded_required/e85)         54\n",
              "flex-fuel_(premium_unleaded_recommended/e85)      26\n",
              "flex-fuel_(unleaded/natural_gas)                   6\n",
              "natural_gas                                        2\n",
              "Name: count, dtype: int64"
            ]
          },
          "metadata": {},
          "execution_count": 53
        }
      ]
    },
    {
      "cell_type": "code",
      "source": [
        "def prepare_X(df):\n",
        "  df = df.copy()\n",
        "  features = base.copy()\n",
        "\n",
        "  df['age'] = 2017 - df.year\n",
        "  features.append('age')\n",
        "\n",
        "  for v in [2, 3, 4]:\n",
        "    feature = 'num_doors_%s' % v\n",
        "    df[feature] = (df['number_of_doors'] == v).astype(int)\n",
        "    features.append(feature)\n",
        "\n",
        "  for v in ['chevrolet', 'ford', 'volkswagen', 'toyota', 'dodge']:\n",
        "    feature = 'is_make_%s' % v\n",
        "    df[feature] = (df['make'] == v).astype(int)\n",
        "    features.append(feature)\n",
        "\n",
        "  for v in ['regular_unleaded', 'premium_unleaded_(required)',\n",
        "            'premium_unleaded_(recommended)', 'flex-fuel_(unleaded/e85)']:\n",
        "    feature = 'is_type_%s' % v\n",
        "    df[feature] = (df['engine_fuel_type'] == v).astype(int)\n",
        "    features.append(feature)\n",
        "\n",
        "  df_num = df[features]\n",
        "  df_num = df_num.fillna(df_num.mean())\n",
        "  X= df_num.values\n",
        "  return X"
      ],
      "metadata": {
        "id": "ZsaieG06HOKT"
      },
      "execution_count": null,
      "outputs": []
    },
    {
      "cell_type": "code",
      "source": [
        "X_train = prepare_X(df_train)\n",
        "w_0, w = train_linear_regression(X_train, y_train)\n",
        "\n",
        "y_pred = w_0 + X_train.dot(w)\n",
        "print('Train RMSE : ',rmse(y_train , y_pred))\n",
        "\n",
        "X_val = prepare_X(df_val)\n",
        "y_pred = w_0 + X_val.dot(w)\n",
        "print('Validation RMSE : ',rmse(y_val , y_pred))"
      ],
      "metadata": {
        "colab": {
          "base_uri": "https://localhost:8080/"
        },
        "id": "CuqdiEPGKSrF",
        "outputId": "8a1c0131-b134-4beb-d2c6-b987d12f7341"
      },
      "execution_count": null,
      "outputs": [
        {
          "output_type": "stream",
          "name": "stdout",
          "text": [
            "Train RMSE :  0.4763631998894518\n",
            "Validation RMSE :  0.47075974075252836\n"
          ]
        }
      ]
    },
    {
      "cell_type": "code",
      "source": [
        "df['transmission_type'].value_counts()"
      ],
      "metadata": {
        "colab": {
          "base_uri": "https://localhost:8080/"
        },
        "id": "z7aYl3_SKoHQ",
        "outputId": "80cfb877-7fd3-4371-8aee-81948d032fa1"
      },
      "execution_count": null,
      "outputs": [
        {
          "output_type": "execute_result",
          "data": {
            "text/plain": [
              "transmission_type\n",
              "automatic           8266\n",
              "manual              2935\n",
              "automated_manual     626\n",
              "direct_drive          68\n",
              "unknown               19\n",
              "Name: count, dtype: int64"
            ]
          },
          "metadata": {},
          "execution_count": 56
        }
      ]
    },
    {
      "cell_type": "code",
      "source": [
        "df['driven_wheels'].value_counts()"
      ],
      "metadata": {
        "colab": {
          "base_uri": "https://localhost:8080/"
        },
        "id": "ZrQ--EovK6Fy",
        "outputId": "2901819e-33f4-4ca7-ce69-d900bc57c3ee"
      },
      "execution_count": null,
      "outputs": [
        {
          "output_type": "execute_result",
          "data": {
            "text/plain": [
              "driven_wheels\n",
              "front_wheel_drive    4787\n",
              "rear_wheel_drive     3371\n",
              "all_wheel_drive      2353\n",
              "four_wheel_drive     1403\n",
              "Name: count, dtype: int64"
            ]
          },
          "metadata": {},
          "execution_count": 57
        }
      ]
    },
    {
      "cell_type": "code",
      "source": [
        "df['market_category'].value_counts()"
      ],
      "metadata": {
        "colab": {
          "base_uri": "https://localhost:8080/"
        },
        "id": "NuxsLk4IK9mA",
        "outputId": "9f226e61-b8ae-41ae-ae45-c6bd064d9f62"
      },
      "execution_count": null,
      "outputs": [
        {
          "output_type": "execute_result",
          "data": {
            "text/plain": [
              "market_category\n",
              "crossover                                          1110\n",
              "flex_fuel                                           872\n",
              "luxury                                              855\n",
              "luxury,performance                                  673\n",
              "hatchback                                           641\n",
              "                                                   ... \n",
              "crossover,exotic,luxury,performance                   1\n",
              "exotic,luxury,high-performance,hybrid                 1\n",
              "crossover,exotic,luxury,high-performance              1\n",
              "flex_fuel,factory_tuner,luxury,high-performance       1\n",
              "performance,hybrid                                    1\n",
              "Name: count, Length: 71, dtype: int64"
            ]
          },
          "metadata": {},
          "execution_count": 58
        }
      ]
    },
    {
      "cell_type": "code",
      "source": [
        "df['vehicle_size'].value_counts()"
      ],
      "metadata": {
        "colab": {
          "base_uri": "https://localhost:8080/"
        },
        "id": "4u15JfgZLGRX",
        "outputId": "9a1aebd6-ceb9-45c2-a38c-d8915ba97d42"
      },
      "execution_count": null,
      "outputs": [
        {
          "output_type": "execute_result",
          "data": {
            "text/plain": [
              "vehicle_size\n",
              "compact    4764\n",
              "midsize    4373\n",
              "large      2777\n",
              "Name: count, dtype: int64"
            ]
          },
          "metadata": {},
          "execution_count": 59
        }
      ]
    },
    {
      "cell_type": "code",
      "source": [
        "df['vehicle_style'].value_counts()"
      ],
      "metadata": {
        "colab": {
          "base_uri": "https://localhost:8080/"
        },
        "id": "vdRZDOWRLIb8",
        "outputId": "f36bb5e2-c2b6-4f50-cb7d-47631fb4e712"
      },
      "execution_count": null,
      "outputs": [
        {
          "output_type": "execute_result",
          "data": {
            "text/plain": [
              "vehicle_style\n",
              "sedan                  3048\n",
              "4dr_suv                2488\n",
              "coupe                  1211\n",
              "convertible             793\n",
              "4dr_hatchback           702\n",
              "crew_cab_pickup         681\n",
              "extended_cab_pickup     623\n",
              "wagon                   592\n",
              "2dr_hatchback           506\n",
              "passenger_minivan       417\n",
              "regular_cab_pickup      392\n",
              "2dr_suv                 138\n",
              "passenger_van           128\n",
              "cargo_van                95\n",
              "cargo_minivan            71\n",
              "convertible_suv          29\n",
              "Name: count, dtype: int64"
            ]
          },
          "metadata": {},
          "execution_count": 60
        }
      ]
    },
    {
      "cell_type": "code",
      "source": [
        "def prepare_X(df):\n",
        "  df = df.copy()\n",
        "  features = base.copy()\n",
        "\n",
        "  df['age'] = 2017 - df.year\n",
        "  features.append('age')\n",
        "\n",
        "  for v in [2, 3, 4]:\n",
        "    feature = 'num_doors_%s' % v\n",
        "    df[feature] = (df['number_of_doors'] == v).astype(int)\n",
        "    features.append(feature)\n",
        "\n",
        "  for v in ['chevrolet', 'ford', 'volkswagen', 'toyota', 'dodge']:\n",
        "    feature = 'is_make_%s' % v\n",
        "    df[feature] = (df['make'] == v).astype(int)\n",
        "    features.append(feature)\n",
        "\n",
        "  for v in ['regular_unleaded', 'premium_unleaded_(required)',\n",
        "            'premium_unleaded_(recommended)', 'flex-fuel_(unleaded/e85)']:\n",
        "    feature = 'is_type_%s' % v\n",
        "    df[feature] = (df['engine_fuel_type'] == v).astype(int)\n",
        "    features.append(feature)\n",
        "  for v in ['automatic', 'manual', 'automated_manual']:\n",
        "    feature = 'is_transmission_%s' % v\n",
        "    df[feature] = (df['transmission_type'] == v).astype(int)\n",
        "    features.append(feature)\n",
        "\n",
        "  df_num = df[features]\n",
        "  df_num = df_num.fillna(df_num.mean())\n",
        "  X= df_num.values\n",
        "  return X"
      ],
      "metadata": {
        "id": "soAswnEfLPpR"
      },
      "execution_count": null,
      "outputs": []
    },
    {
      "cell_type": "code",
      "source": [
        "X_train = prepare_X(df_train)\n",
        "w_0, w = train_linear_regression(X_train, y_train)\n",
        "\n",
        "y_pred = w_0 + X_train.dot(w)\n",
        "print('Train RMSE : ',rmse(y_train , y_pred))\n",
        "\n",
        "X_val = prepare_X(df_val)\n",
        "y_pred = w_0 + X_val.dot(w)\n",
        "print('Validation RMSE : ',rmse(y_val , y_pred))"
      ],
      "metadata": {
        "colab": {
          "base_uri": "https://localhost:8080/"
        },
        "id": "6hgF2JTYLgVX",
        "outputId": "21aeedcd-13c7-419b-9b7d-9c18ba9125dd"
      },
      "execution_count": null,
      "outputs": [
        {
          "output_type": "stream",
          "name": "stdout",
          "text": [
            "Train RMSE :  0.47227213583716005\n",
            "Validation RMSE :  0.4653694386689132\n"
          ]
        }
      ]
    },
    {
      "cell_type": "code",
      "source": [
        "def prepare_X(df):\n",
        "    df = df.copy()\n",
        "    features = base.copy()\n",
        "\n",
        "    df['age'] = 2017 - df.year\n",
        "    features.append('age')\n",
        "\n",
        "    for v in [2, 3, 4]:\n",
        "        feature = 'num_doors_%s' % v\n",
        "        df[feature] = (df['number_of_doors'] == v).astype(int)\n",
        "        features.append(feature)\n",
        "\n",
        "    for v in ['chevrolet', 'ford', 'volkswagen', 'toyota', 'dodge']:\n",
        "        feature = 'is_make_%s' % v\n",
        "        df[feature] = (df['make'] == v).astype(int)\n",
        "        features.append(feature)\n",
        "\n",
        "    for v in ['regular_unleaded', 'premium_unleaded_(required)',\n",
        "              'premium_unleaded_(recommended)', 'flex-fuel_(unleaded/e85)']:\n",
        "        feature = 'is_type_%s' % v\n",
        "        df[feature] = (df['engine_fuel_type'] == v).astype(int)\n",
        "        features.append(feature)\n",
        "\n",
        "    for v in ['automatic', 'manual', 'automated_manual']:\n",
        "        feature = 'is_transmission_%s' % v\n",
        "        df[feature] = (df['transmission_type'] == v).astype(int)\n",
        "        features.append(feature)\n",
        "\n",
        "    for v in ['front_wheel_drive', 'rear_wheel_drive', 'all_wheel_drive', 'four_wheel_drive']:\n",
        "        feature = 'is_driven_wheels_%s' % v\n",
        "        df[feature] = (df['driven_wheels'] == v).astype(int)\n",
        "        features.append(feature)\n",
        "\n",
        "    for v in ['crossover', 'flex_fuel', 'luxury', 'luxury,performance', 'hatchback']:\n",
        "        feature = 'is_mc_%s' % v\n",
        "        df[feature] = (df['market_category'] == v).astype(int)\n",
        "        features.append(feature)\n",
        "\n",
        "    for v in ['compact', 'midsize', 'large']:\n",
        "        feature = 'is_size_%s' % v\n",
        "        df[feature] = (df['vehicle_size'] == v).astype(int)\n",
        "        features.append(feature)\n",
        "\n",
        "    for v in ['sedan', '4dr_suv', 'coupe', 'convertible', '4dr_hatchback']:\n",
        "        feature = 'is_style_%s' % v\n",
        "        df[feature] = (df['vehicle_style'] == v).astype(int)\n",
        "        features.append(feature)\n",
        "\n",
        "    df_num = df[features]\n",
        "    df_num = df_num.fillna(df_num.mean())\n",
        "    X = df_num.values\n",
        "    return X"
      ],
      "metadata": {
        "id": "FbeWkDTcLkwo"
      },
      "execution_count": null,
      "outputs": []
    },
    {
      "cell_type": "code",
      "source": [
        "X_train = prepare_X(df_train)\n",
        "w_0, w = train_linear_regression(X_train, y_train)\n",
        "\n",
        "y_pred = w_0 + X_train.dot(w)\n",
        "print('Train RMSE : ',rmse(y_train , y_pred))\n",
        "\n",
        "X_val = prepare_X(df_val)\n",
        "y_pred = w_0 + X_val.dot(w)\n",
        "print('Validation RMSE : ',rmse(y_val , y_pred))"
      ],
      "metadata": {
        "colab": {
          "base_uri": "https://localhost:8080/"
        },
        "id": "duuy3OPaMCVR",
        "outputId": "ad593bce-7e5d-4025-c73e-f558a9888a59"
      },
      "execution_count": null,
      "outputs": [
        {
          "output_type": "stream",
          "name": "stdout",
          "text": [
            "Train RMSE :  2219.4977297377545\n",
            "Validation RMSE :  795.8906366825912\n"
          ]
        }
      ]
    },
    {
      "cell_type": "markdown",
      "source": [
        "\n",
        "\n",
        "> the train and validation Root Mean square error is have been too big\n",
        "\n"
      ],
      "metadata": {
        "id": "sWxfCV3WMEtG"
      }
    },
    {
      "cell_type": "code",
      "source": [
        "w.astype(int)"
      ],
      "metadata": {
        "colab": {
          "base_uri": "https://localhost:8080/"
        },
        "id": "i2xri6YGYfdB",
        "outputId": "ff31790a-3036-420a-e89e-47cbeb2a6a9f"
      },
      "execution_count": null,
      "outputs": [
        {
          "output_type": "execute_result",
          "data": {
            "text/plain": [
              "array([                 4,                133,                 83,\n",
              "                       87,                  0,                 65,\n",
              "                    76152,              76653,              76029,\n",
              "                      -75,                -87,                296,\n",
              "                     -181,                 64,               1753,\n",
              "                     1499,               1645,               1882,\n",
              "                     4513,               4348,               4323,\n",
              "       -77440924947065216, -77440924947064944, -77440924947064576,\n",
              "       -77440924947064240,                 55,                 79,\n",
              "                      -71,               -204,               -280,\n",
              "                     -455,               -243,               -329,\n",
              "                        0,                  0,                  0,\n",
              "                        0,                  0])"
            ]
          },
          "metadata": {},
          "execution_count": 65
        }
      ]
    },
    {
      "cell_type": "markdown",
      "source": [
        "#regularization"
      ],
      "metadata": {
        "id": "UtvAKKhCYpgx"
      }
    },
    {
      "cell_type": "code",
      "source": [
        "def train_linear_regression_reg(X, y, r=0.0):\n",
        "  ones = np.ones(X.shape[0])\n",
        "  X = np.column_stack([ones, X])\n",
        "\n",
        "  XTX = X.T.dot(X)\n",
        "  reg = r * np.eye(XTX.shape[0])\n",
        "  XTX = XTX + reg\n",
        "\n",
        "  XTX_inv = np.linalg.inv(XTX)\n",
        "  w = XTX_inv.dot(X.T).dot(y)\n",
        "  return w[0], w[1:]"
      ],
      "metadata": {
        "id": "XMGUBZ99YsTG"
      },
      "execution_count": null,
      "outputs": []
    },
    {
      "cell_type": "code",
      "source": [
        "X_train = prepare_X(df_train)"
      ],
      "metadata": {
        "id": "yvJf1EjFZ7C9"
      },
      "execution_count": null,
      "outputs": []
    },
    {
      "cell_type": "code",
      "source": [
        "for r in [0, 0.000001, 0.0001, 0.001, 0.01, 0.1, 1, 5, 10]:\n",
        "  w_0, w = train_linear_regression_reg(X_train, y_train, r=r)\n",
        "  print('%5s, %.2f, %.2f, %.2f' % (r, w_0 ,w[13] , w[21]))"
      ],
      "metadata": {
        "colab": {
          "base_uri": "https://localhost:8080/"
        },
        "id": "-fAIb84iaXbl",
        "outputId": "d16e72c4-a7ac-4f51-c589-36bf79ab8ace"
      },
      "execution_count": null,
      "outputs": [
        {
          "output_type": "stream",
          "name": "stdout",
          "text": [
            "    0, 77440924946976912.00, 64.03, -77440924947065216.00\n",
            "1e-06, 6.96, -0.10, 1.76\n",
            "0.0001, 6.96, -0.10, 1.76\n",
            "0.001, 6.96, -0.10, 1.76\n",
            " 0.01, 6.95, -0.10, 1.76\n",
            "  0.1, 6.82, -0.10, 1.73\n",
            "    1, 6.04, -0.10, 1.52\n",
            "    5, 4.86, -0.10, 1.21\n",
            "   10, 4.32, -0.09, 1.07\n"
          ]
        }
      ]
    },
    {
      "cell_type": "code",
      "source": [
        "X_train = prepare_X(df_train)\n",
        "w_0, w = train_linear_regression_reg(X_train, y_train, r=0.01)\n",
        "\n",
        "y_pred = w_0 + X_train.dot(w)\n",
        "print('Train RMSE : ',rmse(y_train , y_pred))\n",
        "\n",
        "X_val = prepare_X(df_val)\n",
        "y_pred = w_0 + X_val.dot(w)\n",
        "print('Validation RMSE : ',rmse(y_val , y_pred))"
      ],
      "metadata": {
        "colab": {
          "base_uri": "https://localhost:8080/"
        },
        "id": "ksZhr77YbFgg",
        "outputId": "642c94bc-5568-4a29-9b51-093bf774277e"
      },
      "execution_count": null,
      "outputs": [
        {
          "output_type": "stream",
          "name": "stdout",
          "text": [
            "Train RMSE :  0.4623435462011015\n",
            "Validation RMSE :  0.45751588650897834\n"
          ]
        }
      ]
    },
    {
      "cell_type": "code",
      "source": [
        "X_train = prepare_X(df_train)\n",
        "X_val = prepare_X(df_val)\n",
        "\n",
        "for r in [0.000001, 0.0001, 0.001, 0.01, 0.1, 1, 5, 10]:\n",
        "  w_0, w = train_linear_regression_reg(X_train, y_train, r=r)\n",
        "  y_pred = w_0 + X_train.dot(w)\n",
        "  print('%6s' % r, rmse(y_train, y_pred))"
      ],
      "metadata": {
        "id": "S7M1UMNwbgfp"
      },
      "execution_count": null,
      "outputs": []
    },
    {
      "cell_type": "code",
      "source": [
        "X_train = prepare_X(df_train)\n",
        "w_0, w = train_linear_regression_reg(X_train, y_train, r=0.01)\n",
        "\n",
        "X_val = prepare_X(df_val)\n",
        "y_pred = w_0 + X_val.dot(w)\n",
        "print('Validation RMSE : ',rmse(y_val , y_pred))\n",
        "\n",
        "X_test = prepare_X(df_test)\n",
        "y_pred = w_0 + X_test.dot(w)\n",
        "print('test RMSE : ',rmse(y_test , y_pred))"
      ],
      "metadata": {
        "colab": {
          "base_uri": "https://localhost:8080/"
        },
        "id": "XWCAMmkCb_M-",
        "outputId": "0ef20637-9eec-4317-cb71-3c5c29b1753e"
      },
      "execution_count": null,
      "outputs": [
        {
          "output_type": "stream",
          "name": "stdout",
          "text": [
            "Validation RMSE :  0.45751588650897834\n",
            "test RMSE :  0.4546002212754332\n"
          ]
        }
      ]
    },
    {
      "cell_type": "markdown",
      "source": [
        "#Using the model"
      ],
      "metadata": {
        "id": "KY5bTdEEdCq3"
      }
    },
    {
      "cell_type": "code",
      "source": [
        "i = 2\n",
        "ad = df_test.iloc[i].to_dict()\n",
        "ad"
      ],
      "metadata": {
        "colab": {
          "base_uri": "https://localhost:8080/"
        },
        "id": "2_eMC2IPdFOL",
        "outputId": "5eef243a-54fa-4cd3-85b3-bd5b363841f7"
      },
      "execution_count": null,
      "outputs": [
        {
          "output_type": "execute_result",
          "data": {
            "text/plain": [
              "{'make': 'toyota',\n",
              " 'model': 'venza',\n",
              " 'year': 2013,\n",
              " 'engine_fuel_type': 'regular_unleaded',\n",
              " 'engine_hp': 268.0,\n",
              " 'engine_cylinders': 6.0,\n",
              " 'transmission_type': 'automatic',\n",
              " 'driven_wheels': 'all_wheel_drive',\n",
              " 'number_of_doors': 4.0,\n",
              " 'market_category': 'crossover,performance',\n",
              " 'vehicle_size': 'midsize',\n",
              " 'vehicle_style': 'wagon',\n",
              " 'highway_mpg': 25,\n",
              " 'city_mpg': 18,\n",
              " 'popularity': 2031,\n",
              " 'price': 31120,\n",
              " 'log_price': 10.345638111452145}"
            ]
          },
          "metadata": {},
          "execution_count": 73
        }
      ]
    },
    {
      "cell_type": "code",
      "source": [
        "X_test = prepare_X(pd.DataFrame([ad]))\n",
        "y_pred = w_0 + X_test.dot(w)\n",
        "suggestion = np.exp(y_pred)-1  #because we took the log price not the price so we need to return it to the price\n",
        "suggestion"
      ],
      "metadata": {
        "colab": {
          "base_uri": "https://localhost:8080/"
        },
        "id": "zI68aAITdT-r",
        "outputId": "597fb489-24b4-4088-c5be-bc070b7ee1b9"
      },
      "execution_count": null,
      "outputs": [
        {
          "output_type": "execute_result",
          "data": {
            "text/plain": [
              "array([28468.75677144])"
            ]
          },
          "metadata": {},
          "execution_count": 74
        }
      ]
    }
  ]
}